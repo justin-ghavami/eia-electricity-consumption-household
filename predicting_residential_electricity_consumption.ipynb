{
 "cells": [
  {
   "cell_type": "markdown",
   "metadata": {},
   "source": [
    "## ⚡️ Predicting the Residential Electricity Consumption using Machine Learning/Data Science 💡\n",
    "\n",
    "In this notebook, we're going to go through a machine learning/data science project with the goal of creating a model that predicts electric consumption for housing units occupied as a primary residence and the households that live in them.\n",
    "\n",
    "After, initial analysis of the dataset, our target variable is a number therefore, we are predicting a number. Also, we have labels associated with all of our data.\n",
    "In other words, this is known as a supervised regression problem. \n",
    "\n",
    "The data we'll be is from [eia - U.S. Energy Information Administration](https://www.eia.gov/consumption/residential/data/2009/index.php?view=microdata)\n",
    "\n",
    "The evaluation metrics that we will use are: \n",
    "\n",
    "* R-Squared (R²) \n",
    "* Adjusted R-Squared (Adj R²) \n",
    "* Mean Square Errors (MSE)\n",
    "* Root Mean Squared Errors (RMSE)\n",
    "\n",
    "\n",
    "These are the typical evaluation metrics that used to score a regression model.  "
   ]
  },
  {
   "cell_type": "markdown",
   "metadata": {},
   "source": [
    "### What we'll end up with\n",
    "\n",
    "Since we already have a dataset, we'll approach the problem with the following machine learning modelling framework.\n",
    "[6 Step Machine Learning Modelling Framework](https://whimsical.com/6-step-field-guide-to-machine-learning-projects-flowcharts-9g65jgoRYTxMXxDosndYTB)\n",
    "\n",
    "We'll work through each step and by the end of the notebook, we'll have a trained machine learning model which predicts the electricty consumption given different characteristics about it."
   ]
  },
  {
   "cell_type": "markdown",
   "metadata": {},
   "source": [
    "## 1. Problem Definition\n",
    "\n",
    "For this dataset, the question we are trying to answer is,\n",
    "\n",
    "> How well can we predict the electric consumption for housing units occupied as a primary residence and the households that live in them given over 12 000 rows of data?\n",
    "There are over 900 variables (columns) to this dataset. There is potential possibility of making simplyfing assumptions in the interest of time or to neglect all variables that hold little weight to our target variable.\n",
    "\n",
    "## 2. Data\n",
    "Looking at the [eia dataset](https://www.eia.gov/consumption/residential/data/2009/index.php?view=microdata)\n",
    "There are 3 datasets:\n",
    "1. **Data File** a little over 12 000 rows.\n",
    "2. **Layout File** helping understand the meaning of each variable\n",
    "3. **Excel File** where all variables are defined and understanding their correlation with the dependent variable.\n",
    "**Important to note:** There is a **4th file**, a microdata file, explaining explaining to the user how to compute estimates and standard errors (RSEs)\n",
    "\n",
    "## 3. Evaluation\n",
    "For this problem, we have chosen a few standard regression model metrics. As mentioned above, the metrics we have chosen are:\n",
    "* R-Squared (R²) \n",
    "* Adjusted R-Squared (Adj R²) \n",
    "* Mean Square Errors (MSE)\n",
    "* Root Mean Squared Errors (RMSE)\n",
    "\n",
    "Success can be defined as \n",
    "\n",
    "\n",
    "[EIA](https://www.eia.gov/consumption/residential/methodology/2009/pdf/using-microdata-022613.pdf) has set the evaluation metric to RSE (relative squared error). The goal will be to get this value as low as possible.\n",
    "\n",
    "A relative standard error (RSE) is\n",
    "defined as the standard error (square root of the variance) of a survey estimate, divided by the\n",
    "survey estimate, and multiplied by 100. In other words, the RSE is the standard error relative to\n",
    "the survey estimate on a scale from zero to 100.\n",
    "\n",
    "\n",
    "\n",
    "\n",
    "\n",
    "## 4. Features\n",
    "\n",
    "For this dataset, EIA provides a data dictionanry which contains information about what each attribute of the dataset means. You can view [the file on this page below \"layout file\".](https://www.eia.gov/consumption/residential/data/2009/index.php?view=microdata)\n",
    "* After further investigation in the excel spreadsheet, not all 900+ variables play a role in the consumption of energy (dependent variable). Therefore, we can remove many variables from our weighted equation.\n",
    "Knowing all of this, we can get started. We will need to import all necessary tools.\n",
    "\n",
    "First, we'll import the dataset and start exploring. Since we know the evaluation metrics we're implementing, our first goal will be building a baseline model and seeing how it stacks up against our metrics\n",
    "\n",
    "### Importing the data and preparing it for modelling."
   ]
  },
  {
   "cell_type": "code",
   "execution_count": 79,
   "metadata": {},
   "outputs": [],
   "source": [
    "# Imports \n",
    "# Regular EDA and plotting libraries\n",
    "import numpy as np \n",
    "import pandas as pd \n",
    "import matplotlib.pyplot as plt\n",
    "import seaborn as sns\n",
    "\n",
    "# We want our plots to appear in the notebook\n",
    "%matplotlib inline \n",
    "\n",
    "# Model we are using \n",
    "from sklearn.ensemble import ExtraTreesRegressor\n",
    "\n",
    "# Model evaluators\n",
    "## Model evaluators\n",
    "from sklearn.model_selection import train_test_split, cross_val_score\n",
    "from sklearn.model_selection import RandomizedSearchCV, GridSearchCV\n",
    "from sklearn.metrics import mean_squared_error, r2_score\n"
   ]
  },
  {
   "cell_type": "markdown",
   "metadata": {},
   "source": [
    "### Let's import our data and start exploring it."
   ]
  },
  {
   "cell_type": "code",
   "execution_count": 80,
   "metadata": {},
   "outputs": [
    {
     "data": {
      "text/html": [
       "<div>\n",
       "<style scoped>\n",
       "    .dataframe tbody tr th:only-of-type {\n",
       "        vertical-align: middle;\n",
       "    }\n",
       "\n",
       "    .dataframe tbody tr th {\n",
       "        vertical-align: top;\n",
       "    }\n",
       "\n",
       "    .dataframe thead th {\n",
       "        text-align: right;\n",
       "    }\n",
       "</style>\n",
       "<table border=\"1\" class=\"dataframe\">\n",
       "  <thead>\n",
       "    <tr style=\"text-align: right;\">\n",
       "      <th></th>\n",
       "      <th>DOEID</th>\n",
       "      <th>REGIONC</th>\n",
       "      <th>DIVISION</th>\n",
       "      <th>REPORTABLE_DOMAIN</th>\n",
       "      <th>TYPEHUQ</th>\n",
       "      <th>NWEIGHT</th>\n",
       "      <th>HDD65</th>\n",
       "      <th>CDD65</th>\n",
       "      <th>HDD30YR</th>\n",
       "      <th>CDD30YR</th>\n",
       "      <th>...</th>\n",
       "      <th>SCALEKER</th>\n",
       "      <th>IECC_Climate_Pub</th>\n",
       "      <th>HDD50</th>\n",
       "      <th>CDD80</th>\n",
       "      <th>GND_HDD65</th>\n",
       "      <th>WSF</th>\n",
       "      <th>OA_LAT</th>\n",
       "      <th>GWT</th>\n",
       "      <th>DesignDBT99</th>\n",
       "      <th>DesignDBT1</th>\n",
       "    </tr>\n",
       "  </thead>\n",
       "  <tbody>\n",
       "    <tr>\n",
       "      <th>0</th>\n",
       "      <td>1</td>\n",
       "      <td>2</td>\n",
       "      <td>4</td>\n",
       "      <td>12</td>\n",
       "      <td>2</td>\n",
       "      <td>2471.68</td>\n",
       "      <td>4742</td>\n",
       "      <td>1080</td>\n",
       "      <td>4953</td>\n",
       "      <td>1271</td>\n",
       "      <td>...</td>\n",
       "      <td>-2</td>\n",
       "      <td>4A</td>\n",
       "      <td>2117</td>\n",
       "      <td>56</td>\n",
       "      <td>4250</td>\n",
       "      <td>0.48</td>\n",
       "      <td>6</td>\n",
       "      <td>56</td>\n",
       "      <td>9</td>\n",
       "      <td>96</td>\n",
       "    </tr>\n",
       "    <tr>\n",
       "      <th>1</th>\n",
       "      <td>2</td>\n",
       "      <td>4</td>\n",
       "      <td>10</td>\n",
       "      <td>26</td>\n",
       "      <td>2</td>\n",
       "      <td>8599.17</td>\n",
       "      <td>2662</td>\n",
       "      <td>199</td>\n",
       "      <td>2688</td>\n",
       "      <td>143</td>\n",
       "      <td>...</td>\n",
       "      <td>-2</td>\n",
       "      <td>3C</td>\n",
       "      <td>62</td>\n",
       "      <td>26</td>\n",
       "      <td>2393</td>\n",
       "      <td>0.61</td>\n",
       "      <td>0</td>\n",
       "      <td>64</td>\n",
       "      <td>38</td>\n",
       "      <td>73</td>\n",
       "    </tr>\n",
       "    <tr>\n",
       "      <th>2</th>\n",
       "      <td>3</td>\n",
       "      <td>1</td>\n",
       "      <td>1</td>\n",
       "      <td>1</td>\n",
       "      <td>5</td>\n",
       "      <td>8969.92</td>\n",
       "      <td>6233</td>\n",
       "      <td>505</td>\n",
       "      <td>5741</td>\n",
       "      <td>829</td>\n",
       "      <td>...</td>\n",
       "      <td>-2</td>\n",
       "      <td>5A</td>\n",
       "      <td>2346</td>\n",
       "      <td>49</td>\n",
       "      <td>5654</td>\n",
       "      <td>0.48</td>\n",
       "      <td>3</td>\n",
       "      <td>52</td>\n",
       "      <td>12</td>\n",
       "      <td>88</td>\n",
       "    </tr>\n",
       "    <tr>\n",
       "      <th>3</th>\n",
       "      <td>4</td>\n",
       "      <td>2</td>\n",
       "      <td>3</td>\n",
       "      <td>7</td>\n",
       "      <td>2</td>\n",
       "      <td>18003.64</td>\n",
       "      <td>6034</td>\n",
       "      <td>672</td>\n",
       "      <td>5781</td>\n",
       "      <td>868</td>\n",
       "      <td>...</td>\n",
       "      <td>-2</td>\n",
       "      <td>5A</td>\n",
       "      <td>2746</td>\n",
       "      <td>0</td>\n",
       "      <td>4941</td>\n",
       "      <td>0.55</td>\n",
       "      <td>4</td>\n",
       "      <td>55</td>\n",
       "      <td>7</td>\n",
       "      <td>87</td>\n",
       "    </tr>\n",
       "    <tr>\n",
       "      <th>4</th>\n",
       "      <td>5</td>\n",
       "      <td>1</td>\n",
       "      <td>1</td>\n",
       "      <td>1</td>\n",
       "      <td>3</td>\n",
       "      <td>5999.61</td>\n",
       "      <td>5388</td>\n",
       "      <td>702</td>\n",
       "      <td>5313</td>\n",
       "      <td>797</td>\n",
       "      <td>...</td>\n",
       "      <td>-2</td>\n",
       "      <td>5A</td>\n",
       "      <td>2251</td>\n",
       "      <td>0</td>\n",
       "      <td>5426</td>\n",
       "      <td>0.61</td>\n",
       "      <td>4</td>\n",
       "      <td>50</td>\n",
       "      <td>13</td>\n",
       "      <td>90</td>\n",
       "    </tr>\n",
       "  </tbody>\n",
       "</table>\n",
       "<p>5 rows × 940 columns</p>\n",
       "</div>"
      ],
      "text/plain": [
       "   DOEID  REGIONC  DIVISION  REPORTABLE_DOMAIN  TYPEHUQ   NWEIGHT  HDD65  \\\n",
       "0      1        2         4                 12        2   2471.68   4742   \n",
       "1      2        4        10                 26        2   8599.17   2662   \n",
       "2      3        1         1                  1        5   8969.92   6233   \n",
       "3      4        2         3                  7        2  18003.64   6034   \n",
       "4      5        1         1                  1        3   5999.61   5388   \n",
       "\n",
       "   CDD65  HDD30YR  CDD30YR  ...  SCALEKER  IECC_Climate_Pub HDD50 CDD80  \\\n",
       "0   1080     4953     1271  ...        -2                4A  2117    56   \n",
       "1    199     2688      143  ...        -2                3C    62    26   \n",
       "2    505     5741      829  ...        -2                5A  2346    49   \n",
       "3    672     5781      868  ...        -2                5A  2746     0   \n",
       "4    702     5313      797  ...        -2                5A  2251     0   \n",
       "\n",
       "   GND_HDD65   WSF  OA_LAT  GWT  DesignDBT99  DesignDBT1  \n",
       "0       4250  0.48       6   56            9          96  \n",
       "1       2393  0.61       0   64           38          73  \n",
       "2       5654  0.48       3   52           12          88  \n",
       "3       4941  0.55       4   55            7          87  \n",
       "4       5426  0.61       4   50           13          90  \n",
       "\n",
       "[5 rows x 940 columns]"
      ]
     },
     "execution_count": 80,
     "metadata": {},
     "output_type": "execute_result"
    }
   ],
   "source": [
    "df = pd.read_csv(\"/Users/justinghavami/desktop/python/zesty_ai_interview/recs2009_public.csv\",low_memory = False)\n",
    "df.head()"
   ]
  },
  {
   "cell_type": "markdown",
   "metadata": {},
   "source": [
    "### Let's explore the dataset"
   ]
  },
  {
   "cell_type": "code",
   "execution_count": 81,
   "metadata": {},
   "outputs": [
    {
     "name": "stdout",
     "output_type": "stream",
     "text": [
      "<class 'pandas.core.frame.DataFrame'>\n",
      "RangeIndex: 12083 entries, 0 to 12082\n",
      "Columns: 940 entries, DOEID to DesignDBT1\n",
      "dtypes: float64(50), int64(885), object(5)\n",
      "memory usage: 86.7+ MB\n"
     ]
    }
   ],
   "source": [
    "df.info()"
   ]
  },
  {
   "cell_type": "code",
   "execution_count": 82,
   "metadata": {},
   "outputs": [
    {
     "data": {
      "text/plain": [
       "(12083, 940)"
      ]
     },
     "execution_count": 82,
     "metadata": {},
     "output_type": "execute_result"
    }
   ],
   "source": [
    "df.shape"
   ]
  },
  {
   "cell_type": "code",
   "execution_count": 83,
   "metadata": {},
   "outputs": [
    {
     "data": {
      "image/png": "[encoded data removed]",
      "text/plain": [
       "<Figure size 432x288 with 1 Axes>"
      ]
     },
     "metadata": {
      "needs_background": "light"
     },
     "output_type": "display_data"
    }
   ],
   "source": [
    "# Plotting our target variable to see what it looks like\n",
    "df.KWH.plot.hist();"
   ]
  },
  {
   "cell_type": "code",
   "execution_count": 84,
   "metadata": {},
   "outputs": [
    {
     "data": {
      "text/plain": [
       "11288.15939750062"
      ]
     },
     "execution_count": 84,
     "metadata": {},
     "output_type": "execute_result"
    }
   ],
   "source": [
    "# mean of KWH\n",
    "df.KWH.mean()"
   ]
  },
  {
   "cell_type": "code",
   "execution_count": 85,
   "metadata": {},
   "outputs": [
    {
     "data": {
      "text/html": [
       "<div>\n",
       "<style scoped>\n",
       "    .dataframe tbody tr th:only-of-type {\n",
       "        vertical-align: middle;\n",
       "    }\n",
       "\n",
       "    .dataframe tbody tr th {\n",
       "        vertical-align: top;\n",
       "    }\n",
       "\n",
       "    .dataframe thead th {\n",
       "        text-align: right;\n",
       "    }\n",
       "</style>\n",
       "<table border=\"1\" class=\"dataframe\">\n",
       "  <thead>\n",
       "    <tr style=\"text-align: right;\">\n",
       "      <th></th>\n",
       "      <th>DOEID</th>\n",
       "      <th>REGIONC</th>\n",
       "      <th>DIVISION</th>\n",
       "      <th>REPORTABLE_DOMAIN</th>\n",
       "      <th>TYPEHUQ</th>\n",
       "      <th>NWEIGHT</th>\n",
       "      <th>HDD65</th>\n",
       "      <th>CDD65</th>\n",
       "      <th>HDD30YR</th>\n",
       "      <th>CDD30YR</th>\n",
       "      <th>...</th>\n",
       "      <th>SCALEKER</th>\n",
       "      <th>IECC_Climate_Pub</th>\n",
       "      <th>HDD50</th>\n",
       "      <th>CDD80</th>\n",
       "      <th>GND_HDD65</th>\n",
       "      <th>WSF</th>\n",
       "      <th>OA_LAT</th>\n",
       "      <th>GWT</th>\n",
       "      <th>DesignDBT99</th>\n",
       "      <th>DesignDBT1</th>\n",
       "    </tr>\n",
       "  </thead>\n",
       "  <tbody>\n",
       "    <tr>\n",
       "      <th>0</th>\n",
       "      <td>1</td>\n",
       "      <td>2</td>\n",
       "      <td>4</td>\n",
       "      <td>12</td>\n",
       "      <td>2</td>\n",
       "      <td>2471.68</td>\n",
       "      <td>4742</td>\n",
       "      <td>1080</td>\n",
       "      <td>4953</td>\n",
       "      <td>1271</td>\n",
       "      <td>...</td>\n",
       "      <td>-2</td>\n",
       "      <td>4A</td>\n",
       "      <td>2117</td>\n",
       "      <td>56</td>\n",
       "      <td>4250</td>\n",
       "      <td>0.48</td>\n",
       "      <td>6</td>\n",
       "      <td>56</td>\n",
       "      <td>9</td>\n",
       "      <td>96</td>\n",
       "    </tr>\n",
       "    <tr>\n",
       "      <th>1</th>\n",
       "      <td>2</td>\n",
       "      <td>4</td>\n",
       "      <td>10</td>\n",
       "      <td>26</td>\n",
       "      <td>2</td>\n",
       "      <td>8599.17</td>\n",
       "      <td>2662</td>\n",
       "      <td>199</td>\n",
       "      <td>2688</td>\n",
       "      <td>143</td>\n",
       "      <td>...</td>\n",
       "      <td>-2</td>\n",
       "      <td>3C</td>\n",
       "      <td>62</td>\n",
       "      <td>26</td>\n",
       "      <td>2393</td>\n",
       "      <td>0.61</td>\n",
       "      <td>0</td>\n",
       "      <td>64</td>\n",
       "      <td>38</td>\n",
       "      <td>73</td>\n",
       "    </tr>\n",
       "    <tr>\n",
       "      <th>2</th>\n",
       "      <td>3</td>\n",
       "      <td>1</td>\n",
       "      <td>1</td>\n",
       "      <td>1</td>\n",
       "      <td>5</td>\n",
       "      <td>8969.92</td>\n",
       "      <td>6233</td>\n",
       "      <td>505</td>\n",
       "      <td>5741</td>\n",
       "      <td>829</td>\n",
       "      <td>...</td>\n",
       "      <td>-2</td>\n",
       "      <td>5A</td>\n",
       "      <td>2346</td>\n",
       "      <td>49</td>\n",
       "      <td>5654</td>\n",
       "      <td>0.48</td>\n",
       "      <td>3</td>\n",
       "      <td>52</td>\n",
       "      <td>12</td>\n",
       "      <td>88</td>\n",
       "    </tr>\n",
       "    <tr>\n",
       "      <th>3</th>\n",
       "      <td>4</td>\n",
       "      <td>2</td>\n",
       "      <td>3</td>\n",
       "      <td>7</td>\n",
       "      <td>2</td>\n",
       "      <td>18003.64</td>\n",
       "      <td>6034</td>\n",
       "      <td>672</td>\n",
       "      <td>5781</td>\n",
       "      <td>868</td>\n",
       "      <td>...</td>\n",
       "      <td>-2</td>\n",
       "      <td>5A</td>\n",
       "      <td>2746</td>\n",
       "      <td>0</td>\n",
       "      <td>4941</td>\n",
       "      <td>0.55</td>\n",
       "      <td>4</td>\n",
       "      <td>55</td>\n",
       "      <td>7</td>\n",
       "      <td>87</td>\n",
       "    </tr>\n",
       "    <tr>\n",
       "      <th>4</th>\n",
       "      <td>5</td>\n",
       "      <td>1</td>\n",
       "      <td>1</td>\n",
       "      <td>1</td>\n",
       "      <td>3</td>\n",
       "      <td>5999.61</td>\n",
       "      <td>5388</td>\n",
       "      <td>702</td>\n",
       "      <td>5313</td>\n",
       "      <td>797</td>\n",
       "      <td>...</td>\n",
       "      <td>-2</td>\n",
       "      <td>5A</td>\n",
       "      <td>2251</td>\n",
       "      <td>0</td>\n",
       "      <td>5426</td>\n",
       "      <td>0.61</td>\n",
       "      <td>4</td>\n",
       "      <td>50</td>\n",
       "      <td>13</td>\n",
       "      <td>90</td>\n",
       "    </tr>\n",
       "  </tbody>\n",
       "</table>\n",
       "<p>5 rows × 940 columns</p>\n",
       "</div>"
      ],
      "text/plain": [
       "   DOEID  REGIONC  DIVISION  REPORTABLE_DOMAIN  TYPEHUQ   NWEIGHT  HDD65  \\\n",
       "0      1        2         4                 12        2   2471.68   4742   \n",
       "1      2        4        10                 26        2   8599.17   2662   \n",
       "2      3        1         1                  1        5   8969.92   6233   \n",
       "3      4        2         3                  7        2  18003.64   6034   \n",
       "4      5        1         1                  1        3   5999.61   5388   \n",
       "\n",
       "   CDD65  HDD30YR  CDD30YR  ...  SCALEKER  IECC_Climate_Pub HDD50 CDD80  \\\n",
       "0   1080     4953     1271  ...        -2                4A  2117    56   \n",
       "1    199     2688      143  ...        -2                3C    62    26   \n",
       "2    505     5741      829  ...        -2                5A  2346    49   \n",
       "3    672     5781      868  ...        -2                5A  2746     0   \n",
       "4    702     5313      797  ...        -2                5A  2251     0   \n",
       "\n",
       "   GND_HDD65   WSF  OA_LAT  GWT  DesignDBT99  DesignDBT1  \n",
       "0       4250  0.48       6   56            9          96  \n",
       "1       2393  0.61       0   64           38          73  \n",
       "2       5654  0.48       3   52           12          88  \n",
       "3       4941  0.55       4   55            7          87  \n",
       "4       5426  0.61       4   50           13          90  \n",
       "\n",
       "[5 rows x 940 columns]"
      ]
     },
     "execution_count": 85,
     "metadata": {},
     "output_type": "execute_result"
    }
   ],
   "source": [
    "df.head()"
   ]
  },
  {
   "cell_type": "code",
   "execution_count": 86,
   "metadata": {},
   "outputs": [
    {
     "data": {
      "text/html": [
       "<div>\n",
       "<style scoped>\n",
       "    .dataframe tbody tr th:only-of-type {\n",
       "        vertical-align: middle;\n",
       "    }\n",
       "\n",
       "    .dataframe tbody tr th {\n",
       "        vertical-align: top;\n",
       "    }\n",
       "\n",
       "    .dataframe thead th {\n",
       "        text-align: right;\n",
       "    }\n",
       "</style>\n",
       "<table border=\"1\" class=\"dataframe\">\n",
       "  <thead>\n",
       "    <tr style=\"text-align: right;\">\n",
       "      <th></th>\n",
       "      <th>0</th>\n",
       "      <th>1</th>\n",
       "      <th>2</th>\n",
       "      <th>3</th>\n",
       "      <th>4</th>\n",
       "    </tr>\n",
       "  </thead>\n",
       "  <tbody>\n",
       "    <tr>\n",
       "      <th>DOEID</th>\n",
       "      <td>1</td>\n",
       "      <td>2</td>\n",
       "      <td>3</td>\n",
       "      <td>4</td>\n",
       "      <td>5</td>\n",
       "    </tr>\n",
       "    <tr>\n",
       "      <th>REGIONC</th>\n",
       "      <td>2</td>\n",
       "      <td>4</td>\n",
       "      <td>1</td>\n",
       "      <td>2</td>\n",
       "      <td>1</td>\n",
       "    </tr>\n",
       "    <tr>\n",
       "      <th>DIVISION</th>\n",
       "      <td>4</td>\n",
       "      <td>10</td>\n",
       "      <td>1</td>\n",
       "      <td>3</td>\n",
       "      <td>1</td>\n",
       "    </tr>\n",
       "    <tr>\n",
       "      <th>REPORTABLE_DOMAIN</th>\n",
       "      <td>12</td>\n",
       "      <td>26</td>\n",
       "      <td>1</td>\n",
       "      <td>7</td>\n",
       "      <td>1</td>\n",
       "    </tr>\n",
       "    <tr>\n",
       "      <th>TYPEHUQ</th>\n",
       "      <td>2</td>\n",
       "      <td>2</td>\n",
       "      <td>5</td>\n",
       "      <td>2</td>\n",
       "      <td>3</td>\n",
       "    </tr>\n",
       "    <tr>\n",
       "      <th>...</th>\n",
       "      <td>...</td>\n",
       "      <td>...</td>\n",
       "      <td>...</td>\n",
       "      <td>...</td>\n",
       "      <td>...</td>\n",
       "    </tr>\n",
       "    <tr>\n",
       "      <th>WSF</th>\n",
       "      <td>0.48</td>\n",
       "      <td>0.61</td>\n",
       "      <td>0.48</td>\n",
       "      <td>0.55</td>\n",
       "      <td>0.61</td>\n",
       "    </tr>\n",
       "    <tr>\n",
       "      <th>OA_LAT</th>\n",
       "      <td>6</td>\n",
       "      <td>0</td>\n",
       "      <td>3</td>\n",
       "      <td>4</td>\n",
       "      <td>4</td>\n",
       "    </tr>\n",
       "    <tr>\n",
       "      <th>GWT</th>\n",
       "      <td>56</td>\n",
       "      <td>64</td>\n",
       "      <td>52</td>\n",
       "      <td>55</td>\n",
       "      <td>50</td>\n",
       "    </tr>\n",
       "    <tr>\n",
       "      <th>DesignDBT99</th>\n",
       "      <td>9</td>\n",
       "      <td>38</td>\n",
       "      <td>12</td>\n",
       "      <td>7</td>\n",
       "      <td>13</td>\n",
       "    </tr>\n",
       "    <tr>\n",
       "      <th>DesignDBT1</th>\n",
       "      <td>96</td>\n",
       "      <td>73</td>\n",
       "      <td>88</td>\n",
       "      <td>87</td>\n",
       "      <td>90</td>\n",
       "    </tr>\n",
       "  </tbody>\n",
       "</table>\n",
       "<p>940 rows × 5 columns</p>\n",
       "</div>"
      ],
      "text/plain": [
       "                      0     1     2     3     4\n",
       "DOEID                 1     2     3     4     5\n",
       "REGIONC               2     4     1     2     1\n",
       "DIVISION              4    10     1     3     1\n",
       "REPORTABLE_DOMAIN    12    26     1     7     1\n",
       "TYPEHUQ               2     2     5     2     3\n",
       "...                 ...   ...   ...   ...   ...\n",
       "WSF                0.48  0.61  0.48  0.55  0.61\n",
       "OA_LAT                6     0     3     4     4\n",
       "GWT                  56    64    52    55    50\n",
       "DesignDBT99           9    38    12     7    13\n",
       "DesignDBT1           96    73    88    87    90\n",
       "\n",
       "[940 rows x 5 columns]"
      ]
     },
     "execution_count": 86,
     "metadata": {},
     "output_type": "execute_result"
    }
   ],
   "source": [
    "df.head().T"
   ]
  },
  {
   "cell_type": "code",
   "execution_count": 87,
   "metadata": {},
   "outputs": [
    {
     "data": {
      "text/html": [
       "<div>\n",
       "<style scoped>\n",
       "    .dataframe tbody tr th:only-of-type {\n",
       "        vertical-align: middle;\n",
       "    }\n",
       "\n",
       "    .dataframe tbody tr th {\n",
       "        vertical-align: top;\n",
       "    }\n",
       "\n",
       "    .dataframe thead th {\n",
       "        text-align: right;\n",
       "    }\n",
       "</style>\n",
       "<table border=\"1\" class=\"dataframe\">\n",
       "  <thead>\n",
       "    <tr style=\"text-align: right;\">\n",
       "      <th></th>\n",
       "      <th>DOEID</th>\n",
       "      <th>REGIONC</th>\n",
       "      <th>DIVISION</th>\n",
       "      <th>REPORTABLE_DOMAIN</th>\n",
       "      <th>TYPEHUQ</th>\n",
       "      <th>NWEIGHT</th>\n",
       "      <th>HDD65</th>\n",
       "      <th>CDD65</th>\n",
       "      <th>HDD30YR</th>\n",
       "      <th>CDD30YR</th>\n",
       "      <th>...</th>\n",
       "      <th>PERIODKR</th>\n",
       "      <th>SCALEKER</th>\n",
       "      <th>HDD50</th>\n",
       "      <th>CDD80</th>\n",
       "      <th>GND_HDD65</th>\n",
       "      <th>WSF</th>\n",
       "      <th>OA_LAT</th>\n",
       "      <th>GWT</th>\n",
       "      <th>DesignDBT99</th>\n",
       "      <th>DesignDBT1</th>\n",
       "    </tr>\n",
       "  </thead>\n",
       "  <tbody>\n",
       "    <tr>\n",
       "      <th>count</th>\n",
       "      <td>12083.000000</td>\n",
       "      <td>12083.000000</td>\n",
       "      <td>12083.000000</td>\n",
       "      <td>12083.000000</td>\n",
       "      <td>12083.000000</td>\n",
       "      <td>12083.000000</td>\n",
       "      <td>12083.000000</td>\n",
       "      <td>12083.000000</td>\n",
       "      <td>12083.000000</td>\n",
       "      <td>12083.000000</td>\n",
       "      <td>...</td>\n",
       "      <td>12083.000000</td>\n",
       "      <td>12083.000000</td>\n",
       "      <td>12083.000000</td>\n",
       "      <td>12083.000000</td>\n",
       "      <td>12083.000000</td>\n",
       "      <td>12083.000000</td>\n",
       "      <td>12083.000000</td>\n",
       "      <td>12083.000000</td>\n",
       "      <td>12083.000000</td>\n",
       "      <td>12083.000000</td>\n",
       "    </tr>\n",
       "    <tr>\n",
       "      <th>mean</th>\n",
       "      <td>6042.000000</td>\n",
       "      <td>2.628321</td>\n",
       "      <td>5.373086</td>\n",
       "      <td>14.783663</td>\n",
       "      <td>2.659604</td>\n",
       "      <td>9402.981870</td>\n",
       "      <td>4141.375238</td>\n",
       "      <td>1415.406108</td>\n",
       "      <td>4135.146983</td>\n",
       "      <td>1443.503104</td>\n",
       "      <td>...</td>\n",
       "      <td>-1.935943</td>\n",
       "      <td>-1.955392</td>\n",
       "      <td>1681.961764</td>\n",
       "      <td>139.568485</td>\n",
       "      <td>3763.728544</td>\n",
       "      <td>0.499036</td>\n",
       "      <td>5.656046</td>\n",
       "      <td>59.128693</td>\n",
       "      <td>20.256311</td>\n",
       "      <td>90.359431</td>\n",
       "    </tr>\n",
       "    <tr>\n",
       "      <th>std</th>\n",
       "      <td>3488.205986</td>\n",
       "      <td>1.042142</td>\n",
       "      <td>2.859366</td>\n",
       "      <td>8.195824</td>\n",
       "      <td>1.192627</td>\n",
       "      <td>5192.101419</td>\n",
       "      <td>2317.759375</td>\n",
       "      <td>1134.659475</td>\n",
       "      <td>2260.543686</td>\n",
       "      <td>1021.748722</td>\n",
       "      <td>...</td>\n",
       "      <td>0.589907</td>\n",
       "      <td>0.415810</td>\n",
       "      <td>1401.079218</td>\n",
       "      <td>264.186908</td>\n",
       "      <td>2597.754419</td>\n",
       "      <td>0.083520</td>\n",
       "      <td>6.797205</td>\n",
       "      <td>8.678293</td>\n",
       "      <td>15.337626</td>\n",
       "      <td>6.166669</td>\n",
       "    </tr>\n",
       "    <tr>\n",
       "      <th>min</th>\n",
       "      <td>1.000000</td>\n",
       "      <td>1.000000</td>\n",
       "      <td>1.000000</td>\n",
       "      <td>1.000000</td>\n",
       "      <td>1.000000</td>\n",
       "      <td>476.100000</td>\n",
       "      <td>0.000000</td>\n",
       "      <td>0.000000</td>\n",
       "      <td>0.000000</td>\n",
       "      <td>0.000000</td>\n",
       "      <td>...</td>\n",
       "      <td>-2.000000</td>\n",
       "      <td>-2.000000</td>\n",
       "      <td>0.000000</td>\n",
       "      <td>0.000000</td>\n",
       "      <td>0.000000</td>\n",
       "      <td>0.310000</td>\n",
       "      <td>0.000000</td>\n",
       "      <td>36.000000</td>\n",
       "      <td>-23.000000</td>\n",
       "      <td>60.000000</td>\n",
       "    </tr>\n",
       "    <tr>\n",
       "      <th>25%</th>\n",
       "      <td>3021.500000</td>\n",
       "      <td>2.000000</td>\n",
       "      <td>3.000000</td>\n",
       "      <td>8.000000</td>\n",
       "      <td>2.000000</td>\n",
       "      <td>6297.040000</td>\n",
       "      <td>2197.500000</td>\n",
       "      <td>561.000000</td>\n",
       "      <td>2224.000000</td>\n",
       "      <td>712.000000</td>\n",
       "      <td>...</td>\n",
       "      <td>-2.000000</td>\n",
       "      <td>-2.000000</td>\n",
       "      <td>262.500000</td>\n",
       "      <td>4.000000</td>\n",
       "      <td>1246.500000</td>\n",
       "      <td>0.430000</td>\n",
       "      <td>1.000000</td>\n",
       "      <td>52.000000</td>\n",
       "      <td>9.000000</td>\n",
       "      <td>87.000000</td>\n",
       "    </tr>\n",
       "    <tr>\n",
       "      <th>50%</th>\n",
       "      <td>6042.000000</td>\n",
       "      <td>3.000000</td>\n",
       "      <td>5.000000</td>\n",
       "      <td>15.000000</td>\n",
       "      <td>2.000000</td>\n",
       "      <td>7970.630000</td>\n",
       "      <td>4483.000000</td>\n",
       "      <td>1045.000000</td>\n",
       "      <td>4502.000000</td>\n",
       "      <td>1179.000000</td>\n",
       "      <td>...</td>\n",
       "      <td>-2.000000</td>\n",
       "      <td>-2.000000</td>\n",
       "      <td>1684.000000</td>\n",
       "      <td>30.000000</td>\n",
       "      <td>3878.000000</td>\n",
       "      <td>0.500000</td>\n",
       "      <td>3.000000</td>\n",
       "      <td>58.000000</td>\n",
       "      <td>18.000000</td>\n",
       "      <td>90.000000</td>\n",
       "    </tr>\n",
       "    <tr>\n",
       "      <th>75%</th>\n",
       "      <td>9062.500000</td>\n",
       "      <td>3.000000</td>\n",
       "      <td>7.000000</td>\n",
       "      <td>21.000000</td>\n",
       "      <td>3.000000</td>\n",
       "      <td>11330.030000</td>\n",
       "      <td>5913.000000</td>\n",
       "      <td>1897.000000</td>\n",
       "      <td>5854.000000</td>\n",
       "      <td>1842.500000</td>\n",
       "      <td>...</td>\n",
       "      <td>-2.000000</td>\n",
       "      <td>-2.000000</td>\n",
       "      <td>2662.000000</td>\n",
       "      <td>117.000000</td>\n",
       "      <td>5834.000000</td>\n",
       "      <td>0.560000</td>\n",
       "      <td>7.000000</td>\n",
       "      <td>66.000000</td>\n",
       "      <td>33.000000</td>\n",
       "      <td>94.000000</td>\n",
       "    </tr>\n",
       "    <tr>\n",
       "      <th>max</th>\n",
       "      <td>12083.000000</td>\n",
       "      <td>4.000000</td>\n",
       "      <td>10.000000</td>\n",
       "      <td>27.000000</td>\n",
       "      <td>5.000000</td>\n",
       "      <td>95779.140000</td>\n",
       "      <td>12525.000000</td>\n",
       "      <td>5480.000000</td>\n",
       "      <td>13346.000000</td>\n",
       "      <td>5357.000000</td>\n",
       "      <td>...</td>\n",
       "      <td>5.000000</td>\n",
       "      <td>3.000000</td>\n",
       "      <td>7623.000000</td>\n",
       "      <td>1884.000000</td>\n",
       "      <td>11567.000000</td>\n",
       "      <td>0.800000</td>\n",
       "      <td>34.000000</td>\n",
       "      <td>89.000000</td>\n",
       "      <td>67.000000</td>\n",
       "      <td>118.000000</td>\n",
       "    </tr>\n",
       "  </tbody>\n",
       "</table>\n",
       "<p>8 rows × 935 columns</p>\n",
       "</div>"
      ],
      "text/plain": [
       "              DOEID       REGIONC      DIVISION  REPORTABLE_DOMAIN  \\\n",
       "count  12083.000000  12083.000000  12083.000000       12083.000000   \n",
       "mean    6042.000000      2.628321      5.373086          14.783663   \n",
       "std     3488.205986      1.042142      2.859366           8.195824   \n",
       "min        1.000000      1.000000      1.000000           1.000000   \n",
       "25%     3021.500000      2.000000      3.000000           8.000000   \n",
       "50%     6042.000000      3.000000      5.000000          15.000000   \n",
       "75%     9062.500000      3.000000      7.000000          21.000000   \n",
       "max    12083.000000      4.000000     10.000000          27.000000   \n",
       "\n",
       "            TYPEHUQ       NWEIGHT         HDD65         CDD65       HDD30YR  \\\n",
       "count  12083.000000  12083.000000  12083.000000  12083.000000  12083.000000   \n",
       "mean       2.659604   9402.981870   4141.375238   1415.406108   4135.146983   \n",
       "std        1.192627   5192.101419   2317.759375   1134.659475   2260.543686   \n",
       "min        1.000000    476.100000      0.000000      0.000000      0.000000   \n",
       "25%        2.000000   6297.040000   2197.500000    561.000000   2224.000000   \n",
       "50%        2.000000   7970.630000   4483.000000   1045.000000   4502.000000   \n",
       "75%        3.000000  11330.030000   5913.000000   1897.000000   5854.000000   \n",
       "max        5.000000  95779.140000  12525.000000   5480.000000  13346.000000   \n",
       "\n",
       "            CDD30YR  ...      PERIODKR      SCALEKER         HDD50  \\\n",
       "count  12083.000000  ...  12083.000000  12083.000000  12083.000000   \n",
       "mean    1443.503104  ...     -1.935943     -1.955392   1681.961764   \n",
       "std     1021.748722  ...      0.589907      0.415810   1401.079218   \n",
       "min        0.000000  ...     -2.000000     -2.000000      0.000000   \n",
       "25%      712.000000  ...     -2.000000     -2.000000    262.500000   \n",
       "50%     1179.000000  ...     -2.000000     -2.000000   1684.000000   \n",
       "75%     1842.500000  ...     -2.000000     -2.000000   2662.000000   \n",
       "max     5357.000000  ...      5.000000      3.000000   7623.000000   \n",
       "\n",
       "              CDD80     GND_HDD65           WSF        OA_LAT           GWT  \\\n",
       "count  12083.000000  12083.000000  12083.000000  12083.000000  12083.000000   \n",
       "mean     139.568485   3763.728544      0.499036      5.656046     59.128693   \n",
       "std      264.186908   2597.754419      0.083520      6.797205      8.678293   \n",
       "min        0.000000      0.000000      0.310000      0.000000     36.000000   \n",
       "25%        4.000000   1246.500000      0.430000      1.000000     52.000000   \n",
       "50%       30.000000   3878.000000      0.500000      3.000000     58.000000   \n",
       "75%      117.000000   5834.000000      0.560000      7.000000     66.000000   \n",
       "max     1884.000000  11567.000000      0.800000     34.000000     89.000000   \n",
       "\n",
       "        DesignDBT99    DesignDBT1  \n",
       "count  12083.000000  12083.000000  \n",
       "mean      20.256311     90.359431  \n",
       "std       15.337626      6.166669  \n",
       "min      -23.000000     60.000000  \n",
       "25%        9.000000     87.000000  \n",
       "50%       18.000000     90.000000  \n",
       "75%       33.000000     94.000000  \n",
       "max       67.000000    118.000000  \n",
       "\n",
       "[8 rows x 935 columns]"
      ]
     },
     "execution_count": 87,
     "metadata": {},
     "output_type": "execute_result"
    }
   ],
   "source": [
    "df.describe()"
   ]
  },
  {
   "cell_type": "code",
   "execution_count": 88,
   "metadata": {},
   "outputs": [
    {
     "data": {
      "text/plain": [
       "(12083, 940)"
      ]
     },
     "execution_count": 88,
     "metadata": {},
     "output_type": "execute_result"
    }
   ],
   "source": [
    "df.shape"
   ]
  },
  {
   "cell_type": "markdown",
   "metadata": {},
   "source": [
    "## DataFrame Analysis\n",
    "\n",
    "From the shape of the dataframe, we understand that are we dealing with many variables (940).\n",
    "\n",
    "Prior to this notebook, I read the documentation and files necessary to understand which components are the most valuable.\n",
    "\n",
    "After analyzing the excel spreadsheet given with this assignment, we were able to eliminate many variables that had no correlation with the prediction of energy.\n",
    "\n",
    "**Below are all the columns that DO have an impact on the amount of electricity used.**\n",
    "\n",
    "* The last column of our upcoming dataset is our target variable (KWH)"
   ]
  },
  {
   "cell_type": "code",
   "execution_count": 89,
   "metadata": {},
   "outputs": [],
   "source": [
    "principal_columns_list = ['DIPSTICK', 'AQUARIUM','ELECDEV','ELECCHRG','EQUIPM','FUELHEAT','CARRYKER','EQMAMT','MOISTURE',\n",
    "'USEMOISTURE','H2OTYPE1','PLAYSTA3','TVAUDIOSYS3','OTHERSTB3','TVONWD3','TVONWE3','NUMPC','PCTYPE1','TIMEON1',\n",
    "'PCONOFF1','PCTYPE2','TIMEON2','PCONOFF2','PCTYPE3','TIMEON3','PCONOFF3','FAX','WELLPUMP','TYPEHUQ','HDD65',\n",
    "'CDD65','AIA_Zone','TOTROOMS','STOVENFUEL','STOVEFUEL','OVENFUEL','OVENUSE','MICRO','NUMMEAL','COFFEE','NUMFRIG','SIZRFRI1',\n",
    "'ICE','ESFRIG','SIZRFRI2','ESFRIG2','SIZRFRI3','ESFRIG3','NUMFREEZ','SIZFREEZ','FREEZER','SIZFREEZ2','FREEZER2',\n",
    "'DISHWASH','DWASHUSE','CWASHER','WASHLOAD','RNSETEMP','DRYER','DRYRFUEL','TVCOLOR','TVSIZE1','CABLESAT1','COMBODVR1',\n",
    "'DVR1','PLAYSTA1','TVAUDIOSYS1','OTHERSTB1','TVONWD1','TVONWE1','TVSIZE2','CABLESAT2','COMBODVR2','DVR2','PLAYSTA2',\n",
    "'TVAUDIOSYS2','OTHERSTB2','TVONWD2','TVONWE2','TVSIZE3','CABLESAT3','COMBODVR3','DVR3','FUELH2O','WHEATSIZ',\n",
    "'WHEATAGE','H2OTYPE2','FUELH2O2','WHEATSIZ2','AIRCOND','COOLTYPE','USECENAC','NUMBERAC','USEWWAC','NUMCFAN',\n",
    "'NOTMOIST','USENOTMOIST','SWIMPOOL','FUELPOOL','FUELTUB','LGT12','LGT12EE','LGT4','LGT4EE','LGT1','LGT1EE',\n",
    "'NOUTLGTNT','LGTOEE','NGASLIGHT','ELECAUX','NHSLDMEM','TOTSQFT_EN','TOTHSQFT','TOTUCSQFT','KWH']"
   ]
  },
  {
   "cell_type": "markdown",
   "metadata": {},
   "source": [
    "* Now we will create another dataframe (pc_df for principal components dataframe) and only use the variables that are correlated to our target variable. \n",
    "* To do so we will loop through the principal_columns_list."
   ]
  },
  {
   "cell_type": "code",
   "execution_count": 90,
   "metadata": {},
   "outputs": [
    {
     "data": {
      "text/html": [
       "<div>\n",
       "<style scoped>\n",
       "    .dataframe tbody tr th:only-of-type {\n",
       "        vertical-align: middle;\n",
       "    }\n",
       "\n",
       "    .dataframe tbody tr th {\n",
       "        vertical-align: top;\n",
       "    }\n",
       "\n",
       "    .dataframe thead th {\n",
       "        text-align: right;\n",
       "    }\n",
       "</style>\n",
       "<table border=\"1\" class=\"dataframe\">\n",
       "  <thead>\n",
       "    <tr style=\"text-align: right;\">\n",
       "      <th></th>\n",
       "      <th>DIPSTICK</th>\n",
       "      <th>AQUARIUM</th>\n",
       "      <th>ELECDEV</th>\n",
       "      <th>ELECCHRG</th>\n",
       "      <th>EQUIPM</th>\n",
       "      <th>FUELHEAT</th>\n",
       "      <th>CARRYKER</th>\n",
       "      <th>EQMAMT</th>\n",
       "      <th>MOISTURE</th>\n",
       "      <th>USEMOISTURE</th>\n",
       "      <th>...</th>\n",
       "      <th>LGT1EE</th>\n",
       "      <th>NOUTLGTNT</th>\n",
       "      <th>LGTOEE</th>\n",
       "      <th>NGASLIGHT</th>\n",
       "      <th>ELECAUX</th>\n",
       "      <th>NHSLDMEM</th>\n",
       "      <th>TOTSQFT_EN</th>\n",
       "      <th>TOTHSQFT</th>\n",
       "      <th>TOTUCSQFT</th>\n",
       "      <th>KWH</th>\n",
       "    </tr>\n",
       "  </thead>\n",
       "  <tbody>\n",
       "    <tr>\n",
       "      <th>0</th>\n",
       "      <td>-2</td>\n",
       "      <td>0</td>\n",
       "      <td>1</td>\n",
       "      <td>2</td>\n",
       "      <td>3</td>\n",
       "      <td>5</td>\n",
       "      <td>0</td>\n",
       "      <td>-2</td>\n",
       "      <td>0</td>\n",
       "      <td>-2</td>\n",
       "      <td>...</td>\n",
       "      <td>2</td>\n",
       "      <td>0</td>\n",
       "      <td>-2</td>\n",
       "      <td>-2</td>\n",
       "      <td>0</td>\n",
       "      <td>4</td>\n",
       "      <td>4675</td>\n",
       "      <td>3958</td>\n",
       "      <td>1118</td>\n",
       "      <td>18466</td>\n",
       "    </tr>\n",
       "    <tr>\n",
       "      <th>1</th>\n",
       "      <td>-2</td>\n",
       "      <td>0</td>\n",
       "      <td>2</td>\n",
       "      <td>2</td>\n",
       "      <td>3</td>\n",
       "      <td>1</td>\n",
       "      <td>0</td>\n",
       "      <td>1</td>\n",
       "      <td>0</td>\n",
       "      <td>-2</td>\n",
       "      <td>...</td>\n",
       "      <td>-2</td>\n",
       "      <td>0</td>\n",
       "      <td>-2</td>\n",
       "      <td>-2</td>\n",
       "      <td>0</td>\n",
       "      <td>6</td>\n",
       "      <td>2736</td>\n",
       "      <td>2736</td>\n",
       "      <td>400</td>\n",
       "      <td>5148</td>\n",
       "    </tr>\n",
       "    <tr>\n",
       "      <th>2</th>\n",
       "      <td>-2</td>\n",
       "      <td>0</td>\n",
       "      <td>1</td>\n",
       "      <td>2</td>\n",
       "      <td>2</td>\n",
       "      <td>1</td>\n",
       "      <td>0</td>\n",
       "      <td>-2</td>\n",
       "      <td>0</td>\n",
       "      <td>-2</td>\n",
       "      <td>...</td>\n",
       "      <td>2</td>\n",
       "      <td>-2</td>\n",
       "      <td>-2</td>\n",
       "      <td>-2</td>\n",
       "      <td>0</td>\n",
       "      <td>1</td>\n",
       "      <td>528</td>\n",
       "      <td>528</td>\n",
       "      <td>264</td>\n",
       "      <td>2218</td>\n",
       "    </tr>\n",
       "    <tr>\n",
       "      <th>3</th>\n",
       "      <td>-2</td>\n",
       "      <td>0</td>\n",
       "      <td>1</td>\n",
       "      <td>2</td>\n",
       "      <td>3</td>\n",
       "      <td>1</td>\n",
       "      <td>0</td>\n",
       "      <td>-2</td>\n",
       "      <td>1</td>\n",
       "      <td>5</td>\n",
       "      <td>...</td>\n",
       "      <td>-2</td>\n",
       "      <td>0</td>\n",
       "      <td>-2</td>\n",
       "      <td>-2</td>\n",
       "      <td>0</td>\n",
       "      <td>1</td>\n",
       "      <td>1623</td>\n",
       "      <td>1623</td>\n",
       "      <td>400</td>\n",
       "      <td>10015</td>\n",
       "    </tr>\n",
       "    <tr>\n",
       "      <th>4</th>\n",
       "      <td>-2</td>\n",
       "      <td>0</td>\n",
       "      <td>1</td>\n",
       "      <td>2</td>\n",
       "      <td>3</td>\n",
       "      <td>1</td>\n",
       "      <td>0</td>\n",
       "      <td>-2</td>\n",
       "      <td>0</td>\n",
       "      <td>-2</td>\n",
       "      <td>...</td>\n",
       "      <td>2</td>\n",
       "      <td>0</td>\n",
       "      <td>-2</td>\n",
       "      <td>-2</td>\n",
       "      <td>0</td>\n",
       "      <td>1</td>\n",
       "      <td>1912</td>\n",
       "      <td>1274</td>\n",
       "      <td>1912</td>\n",
       "      <td>2869</td>\n",
       "    </tr>\n",
       "    <tr>\n",
       "      <th>...</th>\n",
       "      <td>...</td>\n",
       "      <td>...</td>\n",
       "      <td>...</td>\n",
       "      <td>...</td>\n",
       "      <td>...</td>\n",
       "      <td>...</td>\n",
       "      <td>...</td>\n",
       "      <td>...</td>\n",
       "      <td>...</td>\n",
       "      <td>...</td>\n",
       "      <td>...</td>\n",
       "      <td>...</td>\n",
       "      <td>...</td>\n",
       "      <td>...</td>\n",
       "      <td>...</td>\n",
       "      <td>...</td>\n",
       "      <td>...</td>\n",
       "      <td>...</td>\n",
       "      <td>...</td>\n",
       "      <td>...</td>\n",
       "      <td>...</td>\n",
       "    </tr>\n",
       "    <tr>\n",
       "      <th>12078</th>\n",
       "      <td>0</td>\n",
       "      <td>0</td>\n",
       "      <td>1</td>\n",
       "      <td>2</td>\n",
       "      <td>3</td>\n",
       "      <td>1</td>\n",
       "      <td>0</td>\n",
       "      <td>1</td>\n",
       "      <td>0</td>\n",
       "      <td>-2</td>\n",
       "      <td>...</td>\n",
       "      <td>4</td>\n",
       "      <td>0</td>\n",
       "      <td>-2</td>\n",
       "      <td>-2</td>\n",
       "      <td>0</td>\n",
       "      <td>1</td>\n",
       "      <td>2160</td>\n",
       "      <td>893</td>\n",
       "      <td>1667</td>\n",
       "      <td>7647</td>\n",
       "    </tr>\n",
       "    <tr>\n",
       "      <th>12079</th>\n",
       "      <td>-2</td>\n",
       "      <td>0</td>\n",
       "      <td>1</td>\n",
       "      <td>2</td>\n",
       "      <td>6</td>\n",
       "      <td>1</td>\n",
       "      <td>0</td>\n",
       "      <td>3</td>\n",
       "      <td>0</td>\n",
       "      <td>-2</td>\n",
       "      <td>...</td>\n",
       "      <td>0</td>\n",
       "      <td>-2</td>\n",
       "      <td>-2</td>\n",
       "      <td>-2</td>\n",
       "      <td>1</td>\n",
       "      <td>1</td>\n",
       "      <td>502</td>\n",
       "      <td>502</td>\n",
       "      <td>0</td>\n",
       "      <td>1813</td>\n",
       "    </tr>\n",
       "    <tr>\n",
       "      <th>12080</th>\n",
       "      <td>0</td>\n",
       "      <td>0</td>\n",
       "      <td>1</td>\n",
       "      <td>2</td>\n",
       "      <td>3</td>\n",
       "      <td>1</td>\n",
       "      <td>0</td>\n",
       "      <td>1</td>\n",
       "      <td>0</td>\n",
       "      <td>-2</td>\n",
       "      <td>...</td>\n",
       "      <td>-2</td>\n",
       "      <td>0</td>\n",
       "      <td>-2</td>\n",
       "      <td>-2</td>\n",
       "      <td>0</td>\n",
       "      <td>4</td>\n",
       "      <td>4181</td>\n",
       "      <td>4181</td>\n",
       "      <td>400</td>\n",
       "      <td>9834</td>\n",
       "    </tr>\n",
       "    <tr>\n",
       "      <th>12081</th>\n",
       "      <td>0</td>\n",
       "      <td>0</td>\n",
       "      <td>0</td>\n",
       "      <td>-2</td>\n",
       "      <td>3</td>\n",
       "      <td>1</td>\n",
       "      <td>0</td>\n",
       "      <td>-2</td>\n",
       "      <td>0</td>\n",
       "      <td>-2</td>\n",
       "      <td>...</td>\n",
       "      <td>0</td>\n",
       "      <td>0</td>\n",
       "      <td>-2</td>\n",
       "      <td>-2</td>\n",
       "      <td>0</td>\n",
       "      <td>1</td>\n",
       "      <td>1728</td>\n",
       "      <td>864</td>\n",
       "      <td>1210</td>\n",
       "      <td>4800</td>\n",
       "    </tr>\n",
       "    <tr>\n",
       "      <th>12082</th>\n",
       "      <td>-2</td>\n",
       "      <td>0</td>\n",
       "      <td>0</td>\n",
       "      <td>-2</td>\n",
       "      <td>3</td>\n",
       "      <td>1</td>\n",
       "      <td>0</td>\n",
       "      <td>1</td>\n",
       "      <td>0</td>\n",
       "      <td>-2</td>\n",
       "      <td>...</td>\n",
       "      <td>3</td>\n",
       "      <td>0</td>\n",
       "      <td>-2</td>\n",
       "      <td>-2</td>\n",
       "      <td>1</td>\n",
       "      <td>2</td>\n",
       "      <td>4520</td>\n",
       "      <td>4520</td>\n",
       "      <td>4920</td>\n",
       "      <td>1764</td>\n",
       "    </tr>\n",
       "  </tbody>\n",
       "</table>\n",
       "<p>12083 rows × 115 columns</p>\n",
       "</div>"
      ],
      "text/plain": [
       "       DIPSTICK  AQUARIUM  ELECDEV  ELECCHRG  EQUIPM  FUELHEAT  CARRYKER  \\\n",
       "0            -2         0        1         2       3         5         0   \n",
       "1            -2         0        2         2       3         1         0   \n",
       "2            -2         0        1         2       2         1         0   \n",
       "3            -2         0        1         2       3         1         0   \n",
       "4            -2         0        1         2       3         1         0   \n",
       "...         ...       ...      ...       ...     ...       ...       ...   \n",
       "12078         0         0        1         2       3         1         0   \n",
       "12079        -2         0        1         2       6         1         0   \n",
       "12080         0         0        1         2       3         1         0   \n",
       "12081         0         0        0        -2       3         1         0   \n",
       "12082        -2         0        0        -2       3         1         0   \n",
       "\n",
       "       EQMAMT  MOISTURE  USEMOISTURE  ...  LGT1EE  NOUTLGTNT  LGTOEE  \\\n",
       "0          -2         0           -2  ...       2          0      -2   \n",
       "1           1         0           -2  ...      -2          0      -2   \n",
       "2          -2         0           -2  ...       2         -2      -2   \n",
       "3          -2         1            5  ...      -2          0      -2   \n",
       "4          -2         0           -2  ...       2          0      -2   \n",
       "...       ...       ...          ...  ...     ...        ...     ...   \n",
       "12078       1         0           -2  ...       4          0      -2   \n",
       "12079       3         0           -2  ...       0         -2      -2   \n",
       "12080       1         0           -2  ...      -2          0      -2   \n",
       "12081      -2         0           -2  ...       0          0      -2   \n",
       "12082       1         0           -2  ...       3          0      -2   \n",
       "\n",
       "       NGASLIGHT  ELECAUX  NHSLDMEM  TOTSQFT_EN  TOTHSQFT  TOTUCSQFT    KWH  \n",
       "0             -2        0         4        4675      3958       1118  18466  \n",
       "1             -2        0         6        2736      2736        400   5148  \n",
       "2             -2        0         1         528       528        264   2218  \n",
       "3             -2        0         1        1623      1623        400  10015  \n",
       "4             -2        0         1        1912      1274       1912   2869  \n",
       "...          ...      ...       ...         ...       ...        ...    ...  \n",
       "12078         -2        0         1        2160       893       1667   7647  \n",
       "12079         -2        1         1         502       502          0   1813  \n",
       "12080         -2        0         4        4181      4181        400   9834  \n",
       "12081         -2        0         1        1728       864       1210   4800  \n",
       "12082         -2        1         2        4520      4520       4920   1764  \n",
       "\n",
       "[12083 rows x 115 columns]"
      ]
     },
     "execution_count": 90,
     "metadata": {},
     "output_type": "execute_result"
    }
   ],
   "source": [
    "pc_df = pd.DataFrame()\n",
    "for name in principal_columns_list:\n",
    "    pc_df[name] = df[name]\n",
    "pc_df"
   ]
  },
  {
   "cell_type": "markdown",
   "metadata": {},
   "source": [
    "##### We will check for any missing values. From quick observation and prior analysis, we do believe the dataset is compete but better to check for thoroughness"
   ]
  },
  {
   "cell_type": "code",
   "execution_count": 91,
   "metadata": {},
   "outputs": [
    {
     "data": {
      "text/html": [
       "<div>\n",
       "<style scoped>\n",
       "    .dataframe tbody tr th:only-of-type {\n",
       "        vertical-align: middle;\n",
       "    }\n",
       "\n",
       "    .dataframe tbody tr th {\n",
       "        vertical-align: top;\n",
       "    }\n",
       "\n",
       "    .dataframe thead th {\n",
       "        text-align: right;\n",
       "    }\n",
       "</style>\n",
       "<table border=\"1\" class=\"dataframe\">\n",
       "  <thead>\n",
       "    <tr style=\"text-align: right;\">\n",
       "      <th></th>\n",
       "      <th>DIPSTICK</th>\n",
       "      <th>AQUARIUM</th>\n",
       "      <th>ELECDEV</th>\n",
       "      <th>ELECCHRG</th>\n",
       "      <th>EQUIPM</th>\n",
       "      <th>FUELHEAT</th>\n",
       "      <th>CARRYKER</th>\n",
       "      <th>EQMAMT</th>\n",
       "      <th>MOISTURE</th>\n",
       "      <th>USEMOISTURE</th>\n",
       "      <th>...</th>\n",
       "      <th>LGT1EE</th>\n",
       "      <th>NOUTLGTNT</th>\n",
       "      <th>LGTOEE</th>\n",
       "      <th>NGASLIGHT</th>\n",
       "      <th>ELECAUX</th>\n",
       "      <th>NHSLDMEM</th>\n",
       "      <th>TOTSQFT_EN</th>\n",
       "      <th>TOTHSQFT</th>\n",
       "      <th>TOTUCSQFT</th>\n",
       "      <th>KWH</th>\n",
       "    </tr>\n",
       "  </thead>\n",
       "  <tbody>\n",
       "    <tr>\n",
       "      <th>0</th>\n",
       "      <td>-2</td>\n",
       "      <td>0</td>\n",
       "      <td>1</td>\n",
       "      <td>2</td>\n",
       "      <td>3</td>\n",
       "      <td>5</td>\n",
       "      <td>0</td>\n",
       "      <td>-2</td>\n",
       "      <td>0</td>\n",
       "      <td>-2</td>\n",
       "      <td>...</td>\n",
       "      <td>2</td>\n",
       "      <td>0</td>\n",
       "      <td>-2</td>\n",
       "      <td>-2</td>\n",
       "      <td>0</td>\n",
       "      <td>4</td>\n",
       "      <td>4675</td>\n",
       "      <td>3958</td>\n",
       "      <td>1118</td>\n",
       "      <td>18466</td>\n",
       "    </tr>\n",
       "    <tr>\n",
       "      <th>1</th>\n",
       "      <td>-2</td>\n",
       "      <td>0</td>\n",
       "      <td>2</td>\n",
       "      <td>2</td>\n",
       "      <td>3</td>\n",
       "      <td>1</td>\n",
       "      <td>0</td>\n",
       "      <td>1</td>\n",
       "      <td>0</td>\n",
       "      <td>-2</td>\n",
       "      <td>...</td>\n",
       "      <td>-2</td>\n",
       "      <td>0</td>\n",
       "      <td>-2</td>\n",
       "      <td>-2</td>\n",
       "      <td>0</td>\n",
       "      <td>6</td>\n",
       "      <td>2736</td>\n",
       "      <td>2736</td>\n",
       "      <td>400</td>\n",
       "      <td>5148</td>\n",
       "    </tr>\n",
       "    <tr>\n",
       "      <th>2</th>\n",
       "      <td>-2</td>\n",
       "      <td>0</td>\n",
       "      <td>1</td>\n",
       "      <td>2</td>\n",
       "      <td>2</td>\n",
       "      <td>1</td>\n",
       "      <td>0</td>\n",
       "      <td>-2</td>\n",
       "      <td>0</td>\n",
       "      <td>-2</td>\n",
       "      <td>...</td>\n",
       "      <td>2</td>\n",
       "      <td>-2</td>\n",
       "      <td>-2</td>\n",
       "      <td>-2</td>\n",
       "      <td>0</td>\n",
       "      <td>1</td>\n",
       "      <td>528</td>\n",
       "      <td>528</td>\n",
       "      <td>264</td>\n",
       "      <td>2218</td>\n",
       "    </tr>\n",
       "    <tr>\n",
       "      <th>3</th>\n",
       "      <td>-2</td>\n",
       "      <td>0</td>\n",
       "      <td>1</td>\n",
       "      <td>2</td>\n",
       "      <td>3</td>\n",
       "      <td>1</td>\n",
       "      <td>0</td>\n",
       "      <td>-2</td>\n",
       "      <td>1</td>\n",
       "      <td>5</td>\n",
       "      <td>...</td>\n",
       "      <td>-2</td>\n",
       "      <td>0</td>\n",
       "      <td>-2</td>\n",
       "      <td>-2</td>\n",
       "      <td>0</td>\n",
       "      <td>1</td>\n",
       "      <td>1623</td>\n",
       "      <td>1623</td>\n",
       "      <td>400</td>\n",
       "      <td>10015</td>\n",
       "    </tr>\n",
       "    <tr>\n",
       "      <th>4</th>\n",
       "      <td>-2</td>\n",
       "      <td>0</td>\n",
       "      <td>1</td>\n",
       "      <td>2</td>\n",
       "      <td>3</td>\n",
       "      <td>1</td>\n",
       "      <td>0</td>\n",
       "      <td>-2</td>\n",
       "      <td>0</td>\n",
       "      <td>-2</td>\n",
       "      <td>...</td>\n",
       "      <td>2</td>\n",
       "      <td>0</td>\n",
       "      <td>-2</td>\n",
       "      <td>-2</td>\n",
       "      <td>0</td>\n",
       "      <td>1</td>\n",
       "      <td>1912</td>\n",
       "      <td>1274</td>\n",
       "      <td>1912</td>\n",
       "      <td>2869</td>\n",
       "    </tr>\n",
       "  </tbody>\n",
       "</table>\n",
       "<p>5 rows × 115 columns</p>\n",
       "</div>"
      ],
      "text/plain": [
       "   DIPSTICK  AQUARIUM  ELECDEV  ELECCHRG  EQUIPM  FUELHEAT  CARRYKER  EQMAMT  \\\n",
       "0        -2         0        1         2       3         5         0      -2   \n",
       "1        -2         0        2         2       3         1         0       1   \n",
       "2        -2         0        1         2       2         1         0      -2   \n",
       "3        -2         0        1         2       3         1         0      -2   \n",
       "4        -2         0        1         2       3         1         0      -2   \n",
       "\n",
       "   MOISTURE  USEMOISTURE  ...  LGT1EE  NOUTLGTNT  LGTOEE  NGASLIGHT  ELECAUX  \\\n",
       "0         0           -2  ...       2          0      -2         -2        0   \n",
       "1         0           -2  ...      -2          0      -2         -2        0   \n",
       "2         0           -2  ...       2         -2      -2         -2        0   \n",
       "3         1            5  ...      -2          0      -2         -2        0   \n",
       "4         0           -2  ...       2          0      -2         -2        0   \n",
       "\n",
       "   NHSLDMEM  TOTSQFT_EN  TOTHSQFT  TOTUCSQFT    KWH  \n",
       "0         4        4675      3958       1118  18466  \n",
       "1         6        2736      2736        400   5148  \n",
       "2         1         528       528        264   2218  \n",
       "3         1        1623      1623        400  10015  \n",
       "4         1        1912      1274       1912   2869  \n",
       "\n",
       "[5 rows x 115 columns]"
      ]
     },
     "execution_count": 91,
     "metadata": {},
     "output_type": "execute_result"
    }
   ],
   "source": [
    "pc_df.head()"
   ]
  },
  {
   "cell_type": "code",
   "execution_count": 92,
   "metadata": {},
   "outputs": [
    {
     "data": {
      "text/plain": [
       "11288.15939750062"
      ]
     },
     "execution_count": 92,
     "metadata": {},
     "output_type": "execute_result"
    }
   ],
   "source": [
    "pc_df.KWH.mean()"
   ]
  },
  {
   "cell_type": "code",
   "execution_count": 93,
   "metadata": {},
   "outputs": [
    {
     "name": "stdout",
     "output_type": "stream",
     "text": [
      "<class 'pandas.core.frame.DataFrame'>\n",
      "RangeIndex: 12083 entries, 0 to 12082\n",
      "Columns: 115 entries, DIPSTICK to KWH\n",
      "dtypes: int64(115)\n",
      "memory usage: 10.6 MB\n"
     ]
    }
   ],
   "source": [
    "pc_df.info()"
   ]
  },
  {
   "cell_type": "markdown",
   "metadata": {},
   "source": [
    "All Numerical Values ☺️"
   ]
  },
  {
   "cell_type": "code",
   "execution_count": 94,
   "metadata": {},
   "outputs": [
    {
     "data": {
      "text/html": [
       "<div>\n",
       "<style scoped>\n",
       "    .dataframe tbody tr th:only-of-type {\n",
       "        vertical-align: middle;\n",
       "    }\n",
       "\n",
       "    .dataframe tbody tr th {\n",
       "        vertical-align: top;\n",
       "    }\n",
       "\n",
       "    .dataframe thead th {\n",
       "        text-align: right;\n",
       "    }\n",
       "</style>\n",
       "<table border=\"1\" class=\"dataframe\">\n",
       "  <thead>\n",
       "    <tr style=\"text-align: right;\">\n",
       "      <th></th>\n",
       "      <th>DIPSTICK</th>\n",
       "      <th>AQUARIUM</th>\n",
       "      <th>ELECDEV</th>\n",
       "      <th>ELECCHRG</th>\n",
       "      <th>EQUIPM</th>\n",
       "      <th>FUELHEAT</th>\n",
       "      <th>CARRYKER</th>\n",
       "      <th>EQMAMT</th>\n",
       "      <th>MOISTURE</th>\n",
       "      <th>USEMOISTURE</th>\n",
       "      <th>...</th>\n",
       "      <th>LGT1EE</th>\n",
       "      <th>NOUTLGTNT</th>\n",
       "      <th>LGTOEE</th>\n",
       "      <th>NGASLIGHT</th>\n",
       "      <th>ELECAUX</th>\n",
       "      <th>NHSLDMEM</th>\n",
       "      <th>TOTSQFT_EN</th>\n",
       "      <th>TOTHSQFT</th>\n",
       "      <th>TOTUCSQFT</th>\n",
       "      <th>KWH</th>\n",
       "    </tr>\n",
       "  </thead>\n",
       "  <tbody>\n",
       "    <tr>\n",
       "      <th>count</th>\n",
       "      <td>12083.000000</td>\n",
       "      <td>12083.000000</td>\n",
       "      <td>12083.000000</td>\n",
       "      <td>12083.000000</td>\n",
       "      <td>12083.000000</td>\n",
       "      <td>12083.000000</td>\n",
       "      <td>12083.000000</td>\n",
       "      <td>12083.000000</td>\n",
       "      <td>12083.000000</td>\n",
       "      <td>12083.000000</td>\n",
       "      <td>...</td>\n",
       "      <td>12083.000000</td>\n",
       "      <td>12083.000000</td>\n",
       "      <td>12083.000000</td>\n",
       "      <td>12083.000000</td>\n",
       "      <td>12083.000000</td>\n",
       "      <td>12083.000000</td>\n",
       "      <td>12083.000000</td>\n",
       "      <td>12083.000000</td>\n",
       "      <td>12083.000000</td>\n",
       "      <td>12083.000000</td>\n",
       "    </tr>\n",
       "    <tr>\n",
       "      <th>mean</th>\n",
       "      <td>-1.394107</td>\n",
       "      <td>0.038153</td>\n",
       "      <td>1.402384</td>\n",
       "      <td>1.721179</td>\n",
       "      <td>3.446164</td>\n",
       "      <td>2.611520</td>\n",
       "      <td>-0.067781</td>\n",
       "      <td>-0.724406</td>\n",
       "      <td>0.152528</td>\n",
       "      <td>-1.433502</td>\n",
       "      <td>...</td>\n",
       "      <td>0.815526</td>\n",
       "      <td>-0.151204</td>\n",
       "      <td>-1.357941</td>\n",
       "      <td>-1.527601</td>\n",
       "      <td>0.235372</td>\n",
       "      <td>2.665646</td>\n",
       "      <td>2021.674253</td>\n",
       "      <td>1675.956219</td>\n",
       "      <td>918.130597</td>\n",
       "      <td>11288.159398</td>\n",
       "    </tr>\n",
       "    <tr>\n",
       "      <th>std</th>\n",
       "      <td>0.936631</td>\n",
       "      <td>0.191573</td>\n",
       "      <td>0.754702</td>\n",
       "      <td>1.251176</td>\n",
       "      <td>2.325053</td>\n",
       "      <td>2.265422</td>\n",
       "      <td>0.386141</td>\n",
       "      <td>1.693202</td>\n",
       "      <td>0.359547</td>\n",
       "      <td>1.398184</td>\n",
       "      <td>...</td>\n",
       "      <td>2.359858</td>\n",
       "      <td>1.551328</td>\n",
       "      <td>1.486765</td>\n",
       "      <td>0.852931</td>\n",
       "      <td>0.424249</td>\n",
       "      <td>1.515664</td>\n",
       "      <td>1350.866572</td>\n",
       "      <td>1200.819335</td>\n",
       "      <td>1064.550849</td>\n",
       "      <td>7641.190845</td>\n",
       "    </tr>\n",
       "    <tr>\n",
       "      <th>min</th>\n",
       "      <td>-2.000000</td>\n",
       "      <td>0.000000</td>\n",
       "      <td>0.000000</td>\n",
       "      <td>-2.000000</td>\n",
       "      <td>-2.000000</td>\n",
       "      <td>-2.000000</td>\n",
       "      <td>-2.000000</td>\n",
       "      <td>-2.000000</td>\n",
       "      <td>0.000000</td>\n",
       "      <td>-2.000000</td>\n",
       "      <td>...</td>\n",
       "      <td>-9.000000</td>\n",
       "      <td>-2.000000</td>\n",
       "      <td>-9.000000</td>\n",
       "      <td>-2.000000</td>\n",
       "      <td>0.000000</td>\n",
       "      <td>1.000000</td>\n",
       "      <td>100.000000</td>\n",
       "      <td>0.000000</td>\n",
       "      <td>0.000000</td>\n",
       "      <td>17.000000</td>\n",
       "    </tr>\n",
       "    <tr>\n",
       "      <th>25%</th>\n",
       "      <td>-2.000000</td>\n",
       "      <td>0.000000</td>\n",
       "      <td>1.000000</td>\n",
       "      <td>2.000000</td>\n",
       "      <td>3.000000</td>\n",
       "      <td>1.000000</td>\n",
       "      <td>0.000000</td>\n",
       "      <td>-2.000000</td>\n",
       "      <td>0.000000</td>\n",
       "      <td>-2.000000</td>\n",
       "      <td>...</td>\n",
       "      <td>0.000000</td>\n",
       "      <td>-2.000000</td>\n",
       "      <td>-2.000000</td>\n",
       "      <td>-2.000000</td>\n",
       "      <td>0.000000</td>\n",
       "      <td>2.000000</td>\n",
       "      <td>1052.000000</td>\n",
       "      <td>888.000000</td>\n",
       "      <td>204.000000</td>\n",
       "      <td>5837.000000</td>\n",
       "    </tr>\n",
       "    <tr>\n",
       "      <th>50%</th>\n",
       "      <td>-2.000000</td>\n",
       "      <td>0.000000</td>\n",
       "      <td>1.000000</td>\n",
       "      <td>2.000000</td>\n",
       "      <td>3.000000</td>\n",
       "      <td>1.000000</td>\n",
       "      <td>0.000000</td>\n",
       "      <td>-2.000000</td>\n",
       "      <td>0.000000</td>\n",
       "      <td>-2.000000</td>\n",
       "      <td>...</td>\n",
       "      <td>0.000000</td>\n",
       "      <td>0.000000</td>\n",
       "      <td>-2.000000</td>\n",
       "      <td>-2.000000</td>\n",
       "      <td>0.000000</td>\n",
       "      <td>2.000000</td>\n",
       "      <td>1696.000000</td>\n",
       "      <td>1400.000000</td>\n",
       "      <td>533.000000</td>\n",
       "      <td>9623.000000</td>\n",
       "    </tr>\n",
       "    <tr>\n",
       "      <th>75%</th>\n",
       "      <td>0.000000</td>\n",
       "      <td>0.000000</td>\n",
       "      <td>2.000000</td>\n",
       "      <td>2.000000</td>\n",
       "      <td>3.000000</td>\n",
       "      <td>5.000000</td>\n",
       "      <td>0.000000</td>\n",
       "      <td>1.000000</td>\n",
       "      <td>0.000000</td>\n",
       "      <td>-2.000000</td>\n",
       "      <td>...</td>\n",
       "      <td>2.000000</td>\n",
       "      <td>0.000000</td>\n",
       "      <td>-2.000000</td>\n",
       "      <td>-2.000000</td>\n",
       "      <td>0.000000</td>\n",
       "      <td>4.000000</td>\n",
       "      <td>2606.000000</td>\n",
       "      <td>2160.000000</td>\n",
       "      <td>1358.500000</td>\n",
       "      <td>14765.000000</td>\n",
       "    </tr>\n",
       "    <tr>\n",
       "      <th>max</th>\n",
       "      <td>1.000000</td>\n",
       "      <td>1.000000</td>\n",
       "      <td>3.000000</td>\n",
       "      <td>3.000000</td>\n",
       "      <td>21.000000</td>\n",
       "      <td>21.000000</td>\n",
       "      <td>1.000000</td>\n",
       "      <td>3.000000</td>\n",
       "      <td>1.000000</td>\n",
       "      <td>5.000000</td>\n",
       "      <td>...</td>\n",
       "      <td>40.000000</td>\n",
       "      <td>15.000000</td>\n",
       "      <td>15.000000</td>\n",
       "      <td>2.000000</td>\n",
       "      <td>1.000000</td>\n",
       "      <td>14.000000</td>\n",
       "      <td>15472.000000</td>\n",
       "      <td>13776.000000</td>\n",
       "      <td>10783.000000</td>\n",
       "      <td>150254.000000</td>\n",
       "    </tr>\n",
       "  </tbody>\n",
       "</table>\n",
       "<p>8 rows × 115 columns</p>\n",
       "</div>"
      ],
      "text/plain": [
       "           DIPSTICK      AQUARIUM       ELECDEV      ELECCHRG        EQUIPM  \\\n",
       "count  12083.000000  12083.000000  12083.000000  12083.000000  12083.000000   \n",
       "mean      -1.394107      0.038153      1.402384      1.721179      3.446164   \n",
       "std        0.936631      0.191573      0.754702      1.251176      2.325053   \n",
       "min       -2.000000      0.000000      0.000000     -2.000000     -2.000000   \n",
       "25%       -2.000000      0.000000      1.000000      2.000000      3.000000   \n",
       "50%       -2.000000      0.000000      1.000000      2.000000      3.000000   \n",
       "75%        0.000000      0.000000      2.000000      2.000000      3.000000   \n",
       "max        1.000000      1.000000      3.000000      3.000000     21.000000   \n",
       "\n",
       "           FUELHEAT      CARRYKER        EQMAMT      MOISTURE   USEMOISTURE  \\\n",
       "count  12083.000000  12083.000000  12083.000000  12083.000000  12083.000000   \n",
       "mean       2.611520     -0.067781     -0.724406      0.152528     -1.433502   \n",
       "std        2.265422      0.386141      1.693202      0.359547      1.398184   \n",
       "min       -2.000000     -2.000000     -2.000000      0.000000     -2.000000   \n",
       "25%        1.000000      0.000000     -2.000000      0.000000     -2.000000   \n",
       "50%        1.000000      0.000000     -2.000000      0.000000     -2.000000   \n",
       "75%        5.000000      0.000000      1.000000      0.000000     -2.000000   \n",
       "max       21.000000      1.000000      3.000000      1.000000      5.000000   \n",
       "\n",
       "       ...        LGT1EE     NOUTLGTNT        LGTOEE     NGASLIGHT  \\\n",
       "count  ...  12083.000000  12083.000000  12083.000000  12083.000000   \n",
       "mean   ...      0.815526     -0.151204     -1.357941     -1.527601   \n",
       "std    ...      2.359858      1.551328      1.486765      0.852931   \n",
       "min    ...     -9.000000     -2.000000     -9.000000     -2.000000   \n",
       "25%    ...      0.000000     -2.000000     -2.000000     -2.000000   \n",
       "50%    ...      0.000000      0.000000     -2.000000     -2.000000   \n",
       "75%    ...      2.000000      0.000000     -2.000000     -2.000000   \n",
       "max    ...     40.000000     15.000000     15.000000      2.000000   \n",
       "\n",
       "            ELECAUX      NHSLDMEM    TOTSQFT_EN      TOTHSQFT     TOTUCSQFT  \\\n",
       "count  12083.000000  12083.000000  12083.000000  12083.000000  12083.000000   \n",
       "mean       0.235372      2.665646   2021.674253   1675.956219    918.130597   \n",
       "std        0.424249      1.515664   1350.866572   1200.819335   1064.550849   \n",
       "min        0.000000      1.000000    100.000000      0.000000      0.000000   \n",
       "25%        0.000000      2.000000   1052.000000    888.000000    204.000000   \n",
       "50%        0.000000      2.000000   1696.000000   1400.000000    533.000000   \n",
       "75%        0.000000      4.000000   2606.000000   2160.000000   1358.500000   \n",
       "max        1.000000     14.000000  15472.000000  13776.000000  10783.000000   \n",
       "\n",
       "                 KWH  \n",
       "count   12083.000000  \n",
       "mean    11288.159398  \n",
       "std      7641.190845  \n",
       "min        17.000000  \n",
       "25%      5837.000000  \n",
       "50%      9623.000000  \n",
       "75%     14765.000000  \n",
       "max    150254.000000  \n",
       "\n",
       "[8 rows x 115 columns]"
      ]
     },
     "execution_count": 94,
     "metadata": {},
     "output_type": "execute_result"
    }
   ],
   "source": [
    "pc_df.describe()"
   ]
  },
  {
   "cell_type": "code",
   "execution_count": 95,
   "metadata": {},
   "outputs": [
    {
     "data": {
      "text/plain": [
       "DIPSTICK      0\n",
       "AQUARIUM      0\n",
       "ELECDEV       0\n",
       "ELECCHRG      0\n",
       "EQUIPM        0\n",
       "             ..\n",
       "NHSLDMEM      0\n",
       "TOTSQFT_EN    0\n",
       "TOTHSQFT      0\n",
       "TOTUCSQFT     0\n",
       "KWH           0\n",
       "Length: 115, dtype: int64"
      ]
     },
     "execution_count": 95,
     "metadata": {},
     "output_type": "execute_result"
    }
   ],
   "source": [
    "pc_df.isna().sum()"
   ]
  },
  {
   "cell_type": "code",
   "execution_count": 96,
   "metadata": {},
   "outputs": [],
   "source": [
    "for label, content in pc_df.items():\n",
    "    if pd.api.types.is_numeric_dtype(content):\n",
    "        if pd.isnull(content).sum():\n",
    "            print(label)"
   ]
  },
  {
   "cell_type": "markdown",
   "metadata": {},
   "source": [
    "No Missing Values!🤠 "
   ]
  },
  {
   "cell_type": "code",
   "execution_count": 97,
   "metadata": {},
   "outputs": [
    {
     "data": {
      "text/plain": [
       "KWH         1.000000\n",
       "TOTROOMS    0.439167\n",
       "TOTHSQFT    0.410385\n",
       "NUMCFAN     0.383531\n",
       "USECENAC    0.382444\n",
       "              ...   \n",
       "NUMBERAC   -0.124570\n",
       "HDD65      -0.130570\n",
       "USEWWAC    -0.131469\n",
       "DIPSTICK   -0.187320\n",
       "TYPEHUQ    -0.353123\n",
       "Name: KWH, Length: 115, dtype: float64"
      ]
     },
     "execution_count": 97,
     "metadata": {},
     "output_type": "execute_result"
    }
   ],
   "source": [
    "# Correlation Matrix \n",
    "corr_matrix = pc_df.corr()\n",
    "corr_matrix[\"KWH\"].sort_values(ascending = False)"
   ]
  },
  {
   "cell_type": "markdown",
   "metadata": {},
   "source": [
    "## Enough of Data Exploration\n",
    "\n",
    "Let's start creating our model to see what else we can figure out about our data."
   ]
  },
  {
   "cell_type": "markdown",
   "metadata": {},
   "source": [
    "### Splitting our data"
   ]
  },
  {
   "cell_type": "code",
   "execution_count": 98,
   "metadata": {},
   "outputs": [],
   "source": [
    "# Everything except target variable \n",
    "X = pc_df.drop(\"KWH\", axis = 1)\n",
    "\n",
    "# Target Variable\n",
    "y = pc_df.KWH.values"
   ]
  },
  {
   "cell_type": "code",
   "execution_count": 99,
   "metadata": {},
   "outputs": [
    {
     "data": {
      "text/html": [
       "<div>\n",
       "<style scoped>\n",
       "    .dataframe tbody tr th:only-of-type {\n",
       "        vertical-align: middle;\n",
       "    }\n",
       "\n",
       "    .dataframe tbody tr th {\n",
       "        vertical-align: top;\n",
       "    }\n",
       "\n",
       "    .dataframe thead th {\n",
       "        text-align: right;\n",
       "    }\n",
       "</style>\n",
       "<table border=\"1\" class=\"dataframe\">\n",
       "  <thead>\n",
       "    <tr style=\"text-align: right;\">\n",
       "      <th></th>\n",
       "      <th>DIPSTICK</th>\n",
       "      <th>AQUARIUM</th>\n",
       "      <th>ELECDEV</th>\n",
       "      <th>ELECCHRG</th>\n",
       "      <th>EQUIPM</th>\n",
       "      <th>FUELHEAT</th>\n",
       "      <th>CARRYKER</th>\n",
       "      <th>EQMAMT</th>\n",
       "      <th>MOISTURE</th>\n",
       "      <th>USEMOISTURE</th>\n",
       "      <th>...</th>\n",
       "      <th>LGT1</th>\n",
       "      <th>LGT1EE</th>\n",
       "      <th>NOUTLGTNT</th>\n",
       "      <th>LGTOEE</th>\n",
       "      <th>NGASLIGHT</th>\n",
       "      <th>ELECAUX</th>\n",
       "      <th>NHSLDMEM</th>\n",
       "      <th>TOTSQFT_EN</th>\n",
       "      <th>TOTHSQFT</th>\n",
       "      <th>TOTUCSQFT</th>\n",
       "    </tr>\n",
       "  </thead>\n",
       "  <tbody>\n",
       "    <tr>\n",
       "      <th>0</th>\n",
       "      <td>-2</td>\n",
       "      <td>0</td>\n",
       "      <td>1</td>\n",
       "      <td>2</td>\n",
       "      <td>3</td>\n",
       "      <td>5</td>\n",
       "      <td>0</td>\n",
       "      <td>-2</td>\n",
       "      <td>0</td>\n",
       "      <td>-2</td>\n",
       "      <td>...</td>\n",
       "      <td>2</td>\n",
       "      <td>2</td>\n",
       "      <td>0</td>\n",
       "      <td>-2</td>\n",
       "      <td>-2</td>\n",
       "      <td>0</td>\n",
       "      <td>4</td>\n",
       "      <td>4675</td>\n",
       "      <td>3958</td>\n",
       "      <td>1118</td>\n",
       "    </tr>\n",
       "    <tr>\n",
       "      <th>1</th>\n",
       "      <td>-2</td>\n",
       "      <td>0</td>\n",
       "      <td>2</td>\n",
       "      <td>2</td>\n",
       "      <td>3</td>\n",
       "      <td>1</td>\n",
       "      <td>0</td>\n",
       "      <td>1</td>\n",
       "      <td>0</td>\n",
       "      <td>-2</td>\n",
       "      <td>...</td>\n",
       "      <td>0</td>\n",
       "      <td>-2</td>\n",
       "      <td>0</td>\n",
       "      <td>-2</td>\n",
       "      <td>-2</td>\n",
       "      <td>0</td>\n",
       "      <td>6</td>\n",
       "      <td>2736</td>\n",
       "      <td>2736</td>\n",
       "      <td>400</td>\n",
       "    </tr>\n",
       "    <tr>\n",
       "      <th>2</th>\n",
       "      <td>-2</td>\n",
       "      <td>0</td>\n",
       "      <td>1</td>\n",
       "      <td>2</td>\n",
       "      <td>2</td>\n",
       "      <td>1</td>\n",
       "      <td>0</td>\n",
       "      <td>-2</td>\n",
       "      <td>0</td>\n",
       "      <td>-2</td>\n",
       "      <td>...</td>\n",
       "      <td>2</td>\n",
       "      <td>2</td>\n",
       "      <td>-2</td>\n",
       "      <td>-2</td>\n",
       "      <td>-2</td>\n",
       "      <td>0</td>\n",
       "      <td>1</td>\n",
       "      <td>528</td>\n",
       "      <td>528</td>\n",
       "      <td>264</td>\n",
       "    </tr>\n",
       "    <tr>\n",
       "      <th>3</th>\n",
       "      <td>-2</td>\n",
       "      <td>0</td>\n",
       "      <td>1</td>\n",
       "      <td>2</td>\n",
       "      <td>3</td>\n",
       "      <td>1</td>\n",
       "      <td>0</td>\n",
       "      <td>-2</td>\n",
       "      <td>1</td>\n",
       "      <td>5</td>\n",
       "      <td>...</td>\n",
       "      <td>0</td>\n",
       "      <td>-2</td>\n",
       "      <td>0</td>\n",
       "      <td>-2</td>\n",
       "      <td>-2</td>\n",
       "      <td>0</td>\n",
       "      <td>1</td>\n",
       "      <td>1623</td>\n",
       "      <td>1623</td>\n",
       "      <td>400</td>\n",
       "    </tr>\n",
       "    <tr>\n",
       "      <th>4</th>\n",
       "      <td>-2</td>\n",
       "      <td>0</td>\n",
       "      <td>1</td>\n",
       "      <td>2</td>\n",
       "      <td>3</td>\n",
       "      <td>1</td>\n",
       "      <td>0</td>\n",
       "      <td>-2</td>\n",
       "      <td>0</td>\n",
       "      <td>-2</td>\n",
       "      <td>...</td>\n",
       "      <td>2</td>\n",
       "      <td>2</td>\n",
       "      <td>0</td>\n",
       "      <td>-2</td>\n",
       "      <td>-2</td>\n",
       "      <td>0</td>\n",
       "      <td>1</td>\n",
       "      <td>1912</td>\n",
       "      <td>1274</td>\n",
       "      <td>1912</td>\n",
       "    </tr>\n",
       "  </tbody>\n",
       "</table>\n",
       "<p>5 rows × 114 columns</p>\n",
       "</div>"
      ],
      "text/plain": [
       "   DIPSTICK  AQUARIUM  ELECDEV  ELECCHRG  EQUIPM  FUELHEAT  CARRYKER  EQMAMT  \\\n",
       "0        -2         0        1         2       3         5         0      -2   \n",
       "1        -2         0        2         2       3         1         0       1   \n",
       "2        -2         0        1         2       2         1         0      -2   \n",
       "3        -2         0        1         2       3         1         0      -2   \n",
       "4        -2         0        1         2       3         1         0      -2   \n",
       "\n",
       "   MOISTURE  USEMOISTURE  ...  LGT1  LGT1EE  NOUTLGTNT  LGTOEE  NGASLIGHT  \\\n",
       "0         0           -2  ...     2       2          0      -2         -2   \n",
       "1         0           -2  ...     0      -2          0      -2         -2   \n",
       "2         0           -2  ...     2       2         -2      -2         -2   \n",
       "3         1            5  ...     0      -2          0      -2         -2   \n",
       "4         0           -2  ...     2       2          0      -2         -2   \n",
       "\n",
       "   ELECAUX  NHSLDMEM  TOTSQFT_EN  TOTHSQFT  TOTUCSQFT  \n",
       "0        0         4        4675      3958       1118  \n",
       "1        0         6        2736      2736        400  \n",
       "2        0         1         528       528        264  \n",
       "3        0         1        1623      1623        400  \n",
       "4        0         1        1912      1274       1912  \n",
       "\n",
       "[5 rows x 114 columns]"
      ]
     },
     "execution_count": 99,
     "metadata": {},
     "output_type": "execute_result"
    }
   ],
   "source": [
    "# Independent variables (no target column)\n",
    "X.head()"
   ]
  },
  {
   "cell_type": "code",
   "execution_count": 100,
   "metadata": {},
   "outputs": [
    {
     "data": {
      "text/plain": [
       "12083"
      ]
     },
     "execution_count": 100,
     "metadata": {},
     "output_type": "execute_result"
    }
   ],
   "source": [
    "len(X)"
   ]
  },
  {
   "cell_type": "code",
   "execution_count": 101,
   "metadata": {},
   "outputs": [
    {
     "data": {
      "text/plain": [
       "12083"
      ]
     },
     "execution_count": 101,
     "metadata": {},
     "output_type": "execute_result"
    }
   ],
   "source": [
    "len(y)"
   ]
  },
  {
   "cell_type": "code",
   "execution_count": 102,
   "metadata": {},
   "outputs": [
    {
     "data": {
      "text/html": [
       "<div>\n",
       "<style scoped>\n",
       "    .dataframe tbody tr th:only-of-type {\n",
       "        vertical-align: middle;\n",
       "    }\n",
       "\n",
       "    .dataframe tbody tr th {\n",
       "        vertical-align: top;\n",
       "    }\n",
       "\n",
       "    .dataframe thead th {\n",
       "        text-align: right;\n",
       "    }\n",
       "</style>\n",
       "<table border=\"1\" class=\"dataframe\">\n",
       "  <thead>\n",
       "    <tr style=\"text-align: right;\">\n",
       "      <th></th>\n",
       "      <th>DIPSTICK</th>\n",
       "      <th>AQUARIUM</th>\n",
       "      <th>ELECDEV</th>\n",
       "      <th>ELECCHRG</th>\n",
       "      <th>EQUIPM</th>\n",
       "      <th>FUELHEAT</th>\n",
       "      <th>CARRYKER</th>\n",
       "      <th>EQMAMT</th>\n",
       "      <th>MOISTURE</th>\n",
       "      <th>USEMOISTURE</th>\n",
       "      <th>...</th>\n",
       "      <th>LGT1</th>\n",
       "      <th>LGT1EE</th>\n",
       "      <th>NOUTLGTNT</th>\n",
       "      <th>LGTOEE</th>\n",
       "      <th>NGASLIGHT</th>\n",
       "      <th>ELECAUX</th>\n",
       "      <th>NHSLDMEM</th>\n",
       "      <th>TOTSQFT_EN</th>\n",
       "      <th>TOTHSQFT</th>\n",
       "      <th>TOTUCSQFT</th>\n",
       "    </tr>\n",
       "  </thead>\n",
       "  <tbody>\n",
       "    <tr>\n",
       "      <th>0</th>\n",
       "      <td>-2</td>\n",
       "      <td>0</td>\n",
       "      <td>1</td>\n",
       "      <td>2</td>\n",
       "      <td>3</td>\n",
       "      <td>5</td>\n",
       "      <td>0</td>\n",
       "      <td>-2</td>\n",
       "      <td>0</td>\n",
       "      <td>-2</td>\n",
       "      <td>...</td>\n",
       "      <td>2</td>\n",
       "      <td>2</td>\n",
       "      <td>0</td>\n",
       "      <td>-2</td>\n",
       "      <td>-2</td>\n",
       "      <td>0</td>\n",
       "      <td>4</td>\n",
       "      <td>4675</td>\n",
       "      <td>3958</td>\n",
       "      <td>1118</td>\n",
       "    </tr>\n",
       "    <tr>\n",
       "      <th>1</th>\n",
       "      <td>-2</td>\n",
       "      <td>0</td>\n",
       "      <td>2</td>\n",
       "      <td>2</td>\n",
       "      <td>3</td>\n",
       "      <td>1</td>\n",
       "      <td>0</td>\n",
       "      <td>1</td>\n",
       "      <td>0</td>\n",
       "      <td>-2</td>\n",
       "      <td>...</td>\n",
       "      <td>0</td>\n",
       "      <td>-2</td>\n",
       "      <td>0</td>\n",
       "      <td>-2</td>\n",
       "      <td>-2</td>\n",
       "      <td>0</td>\n",
       "      <td>6</td>\n",
       "      <td>2736</td>\n",
       "      <td>2736</td>\n",
       "      <td>400</td>\n",
       "    </tr>\n",
       "    <tr>\n",
       "      <th>2</th>\n",
       "      <td>-2</td>\n",
       "      <td>0</td>\n",
       "      <td>1</td>\n",
       "      <td>2</td>\n",
       "      <td>2</td>\n",
       "      <td>1</td>\n",
       "      <td>0</td>\n",
       "      <td>-2</td>\n",
       "      <td>0</td>\n",
       "      <td>-2</td>\n",
       "      <td>...</td>\n",
       "      <td>2</td>\n",
       "      <td>2</td>\n",
       "      <td>-2</td>\n",
       "      <td>-2</td>\n",
       "      <td>-2</td>\n",
       "      <td>0</td>\n",
       "      <td>1</td>\n",
       "      <td>528</td>\n",
       "      <td>528</td>\n",
       "      <td>264</td>\n",
       "    </tr>\n",
       "    <tr>\n",
       "      <th>3</th>\n",
       "      <td>-2</td>\n",
       "      <td>0</td>\n",
       "      <td>1</td>\n",
       "      <td>2</td>\n",
       "      <td>3</td>\n",
       "      <td>1</td>\n",
       "      <td>0</td>\n",
       "      <td>-2</td>\n",
       "      <td>1</td>\n",
       "      <td>5</td>\n",
       "      <td>...</td>\n",
       "      <td>0</td>\n",
       "      <td>-2</td>\n",
       "      <td>0</td>\n",
       "      <td>-2</td>\n",
       "      <td>-2</td>\n",
       "      <td>0</td>\n",
       "      <td>1</td>\n",
       "      <td>1623</td>\n",
       "      <td>1623</td>\n",
       "      <td>400</td>\n",
       "    </tr>\n",
       "    <tr>\n",
       "      <th>4</th>\n",
       "      <td>-2</td>\n",
       "      <td>0</td>\n",
       "      <td>1</td>\n",
       "      <td>2</td>\n",
       "      <td>3</td>\n",
       "      <td>1</td>\n",
       "      <td>0</td>\n",
       "      <td>-2</td>\n",
       "      <td>0</td>\n",
       "      <td>-2</td>\n",
       "      <td>...</td>\n",
       "      <td>2</td>\n",
       "      <td>2</td>\n",
       "      <td>0</td>\n",
       "      <td>-2</td>\n",
       "      <td>-2</td>\n",
       "      <td>0</td>\n",
       "      <td>1</td>\n",
       "      <td>1912</td>\n",
       "      <td>1274</td>\n",
       "      <td>1912</td>\n",
       "    </tr>\n",
       "    <tr>\n",
       "      <th>...</th>\n",
       "      <td>...</td>\n",
       "      <td>...</td>\n",
       "      <td>...</td>\n",
       "      <td>...</td>\n",
       "      <td>...</td>\n",
       "      <td>...</td>\n",
       "      <td>...</td>\n",
       "      <td>...</td>\n",
       "      <td>...</td>\n",
       "      <td>...</td>\n",
       "      <td>...</td>\n",
       "      <td>...</td>\n",
       "      <td>...</td>\n",
       "      <td>...</td>\n",
       "      <td>...</td>\n",
       "      <td>...</td>\n",
       "      <td>...</td>\n",
       "      <td>...</td>\n",
       "      <td>...</td>\n",
       "      <td>...</td>\n",
       "      <td>...</td>\n",
       "    </tr>\n",
       "    <tr>\n",
       "      <th>12078</th>\n",
       "      <td>0</td>\n",
       "      <td>0</td>\n",
       "      <td>1</td>\n",
       "      <td>2</td>\n",
       "      <td>3</td>\n",
       "      <td>1</td>\n",
       "      <td>0</td>\n",
       "      <td>1</td>\n",
       "      <td>0</td>\n",
       "      <td>-2</td>\n",
       "      <td>...</td>\n",
       "      <td>4</td>\n",
       "      <td>4</td>\n",
       "      <td>0</td>\n",
       "      <td>-2</td>\n",
       "      <td>-2</td>\n",
       "      <td>0</td>\n",
       "      <td>1</td>\n",
       "      <td>2160</td>\n",
       "      <td>893</td>\n",
       "      <td>1667</td>\n",
       "    </tr>\n",
       "    <tr>\n",
       "      <th>12079</th>\n",
       "      <td>-2</td>\n",
       "      <td>0</td>\n",
       "      <td>1</td>\n",
       "      <td>2</td>\n",
       "      <td>6</td>\n",
       "      <td>1</td>\n",
       "      <td>0</td>\n",
       "      <td>3</td>\n",
       "      <td>0</td>\n",
       "      <td>-2</td>\n",
       "      <td>...</td>\n",
       "      <td>1</td>\n",
       "      <td>0</td>\n",
       "      <td>-2</td>\n",
       "      <td>-2</td>\n",
       "      <td>-2</td>\n",
       "      <td>1</td>\n",
       "      <td>1</td>\n",
       "      <td>502</td>\n",
       "      <td>502</td>\n",
       "      <td>0</td>\n",
       "    </tr>\n",
       "    <tr>\n",
       "      <th>12080</th>\n",
       "      <td>0</td>\n",
       "      <td>0</td>\n",
       "      <td>1</td>\n",
       "      <td>2</td>\n",
       "      <td>3</td>\n",
       "      <td>1</td>\n",
       "      <td>0</td>\n",
       "      <td>1</td>\n",
       "      <td>0</td>\n",
       "      <td>-2</td>\n",
       "      <td>...</td>\n",
       "      <td>0</td>\n",
       "      <td>-2</td>\n",
       "      <td>0</td>\n",
       "      <td>-2</td>\n",
       "      <td>-2</td>\n",
       "      <td>0</td>\n",
       "      <td>4</td>\n",
       "      <td>4181</td>\n",
       "      <td>4181</td>\n",
       "      <td>400</td>\n",
       "    </tr>\n",
       "    <tr>\n",
       "      <th>12081</th>\n",
       "      <td>0</td>\n",
       "      <td>0</td>\n",
       "      <td>0</td>\n",
       "      <td>-2</td>\n",
       "      <td>3</td>\n",
       "      <td>1</td>\n",
       "      <td>0</td>\n",
       "      <td>-2</td>\n",
       "      <td>0</td>\n",
       "      <td>-2</td>\n",
       "      <td>...</td>\n",
       "      <td>4</td>\n",
       "      <td>0</td>\n",
       "      <td>0</td>\n",
       "      <td>-2</td>\n",
       "      <td>-2</td>\n",
       "      <td>0</td>\n",
       "      <td>1</td>\n",
       "      <td>1728</td>\n",
       "      <td>864</td>\n",
       "      <td>1210</td>\n",
       "    </tr>\n",
       "    <tr>\n",
       "      <th>12082</th>\n",
       "      <td>-2</td>\n",
       "      <td>0</td>\n",
       "      <td>0</td>\n",
       "      <td>-2</td>\n",
       "      <td>3</td>\n",
       "      <td>1</td>\n",
       "      <td>0</td>\n",
       "      <td>1</td>\n",
       "      <td>0</td>\n",
       "      <td>-2</td>\n",
       "      <td>...</td>\n",
       "      <td>3</td>\n",
       "      <td>3</td>\n",
       "      <td>0</td>\n",
       "      <td>-2</td>\n",
       "      <td>-2</td>\n",
       "      <td>1</td>\n",
       "      <td>2</td>\n",
       "      <td>4520</td>\n",
       "      <td>4520</td>\n",
       "      <td>4920</td>\n",
       "    </tr>\n",
       "  </tbody>\n",
       "</table>\n",
       "<p>12083 rows × 114 columns</p>\n",
       "</div>"
      ],
      "text/plain": [
       "       DIPSTICK  AQUARIUM  ELECDEV  ELECCHRG  EQUIPM  FUELHEAT  CARRYKER  \\\n",
       "0            -2         0        1         2       3         5         0   \n",
       "1            -2         0        2         2       3         1         0   \n",
       "2            -2         0        1         2       2         1         0   \n",
       "3            -2         0        1         2       3         1         0   \n",
       "4            -2         0        1         2       3         1         0   \n",
       "...         ...       ...      ...       ...     ...       ...       ...   \n",
       "12078         0         0        1         2       3         1         0   \n",
       "12079        -2         0        1         2       6         1         0   \n",
       "12080         0         0        1         2       3         1         0   \n",
       "12081         0         0        0        -2       3         1         0   \n",
       "12082        -2         0        0        -2       3         1         0   \n",
       "\n",
       "       EQMAMT  MOISTURE  USEMOISTURE  ...  LGT1  LGT1EE  NOUTLGTNT  LGTOEE  \\\n",
       "0          -2         0           -2  ...     2       2          0      -2   \n",
       "1           1         0           -2  ...     0      -2          0      -2   \n",
       "2          -2         0           -2  ...     2       2         -2      -2   \n",
       "3          -2         1            5  ...     0      -2          0      -2   \n",
       "4          -2         0           -2  ...     2       2          0      -2   \n",
       "...       ...       ...          ...  ...   ...     ...        ...     ...   \n",
       "12078       1         0           -2  ...     4       4          0      -2   \n",
       "12079       3         0           -2  ...     1       0         -2      -2   \n",
       "12080       1         0           -2  ...     0      -2          0      -2   \n",
       "12081      -2         0           -2  ...     4       0          0      -2   \n",
       "12082       1         0           -2  ...     3       3          0      -2   \n",
       "\n",
       "       NGASLIGHT  ELECAUX  NHSLDMEM  TOTSQFT_EN  TOTHSQFT  TOTUCSQFT  \n",
       "0             -2        0         4        4675      3958       1118  \n",
       "1             -2        0         6        2736      2736        400  \n",
       "2             -2        0         1         528       528        264  \n",
       "3             -2        0         1        1623      1623        400  \n",
       "4             -2        0         1        1912      1274       1912  \n",
       "...          ...      ...       ...         ...       ...        ...  \n",
       "12078         -2        0         1        2160       893       1667  \n",
       "12079         -2        1         1         502       502          0  \n",
       "12080         -2        0         4        4181      4181        400  \n",
       "12081         -2        0         1        1728       864       1210  \n",
       "12082         -2        1         2        4520      4520       4920  \n",
       "\n",
       "[12083 rows x 114 columns]"
      ]
     },
     "execution_count": 102,
     "metadata": {},
     "output_type": "execute_result"
    }
   ],
   "source": [
    "# Independent Variables \n",
    "X"
   ]
  },
  {
   "cell_type": "code",
   "execution_count": 103,
   "metadata": {},
   "outputs": [
    {
     "data": {
      "text/plain": [
       "array([18466,  5148,  2218, ...,  9834,  4800,  1764])"
      ]
     },
     "execution_count": 103,
     "metadata": {},
     "output_type": "execute_result"
    }
   ],
   "source": [
    "# Target variable\n",
    "y"
   ]
  },
  {
   "cell_type": "code",
   "execution_count": 104,
   "metadata": {},
   "outputs": [],
   "source": [
    "X_train, X_test, y_train, y_test = train_test_split(X,y,test_size=0.2,random_state=1)\n",
    "\n",
    "X_train, X_val, y_train, y_val = train_test_split(X_train,y_train,test_size=0.25,random_state=1)"
   ]
  },
  {
   "cell_type": "code",
   "execution_count": 105,
   "metadata": {},
   "outputs": [
    {
     "data": {
      "text/plain": [
       "12083"
      ]
     },
     "execution_count": 105,
     "metadata": {},
     "output_type": "execute_result"
    }
   ],
   "source": [
    "# Veryfing amount of rows\n",
    "len(X_train) + len(X_val) + len(X_test)"
   ]
  },
  {
   "cell_type": "code",
   "execution_count": 106,
   "metadata": {},
   "outputs": [
    {
     "data": {
      "text/plain": [
       "12083"
      ]
     },
     "execution_count": 106,
     "metadata": {},
     "output_type": "execute_result"
    }
   ],
   "source": [
    "# Veryfing amount of rows\n",
    "len(y_train) + len(y_val) + len(y_test)"
   ]
  },
  {
   "cell_type": "code",
   "execution_count": 107,
   "metadata": {},
   "outputs": [
    {
     "data": {
      "text/plain": [
       "(7249, 2417, 2417)"
      ]
     },
     "execution_count": 107,
     "metadata": {},
     "output_type": "execute_result"
    }
   ],
   "source": [
    "len(X_train), len(X_val), len(X_test)"
   ]
  },
  {
   "cell_type": "code",
   "execution_count": 108,
   "metadata": {},
   "outputs": [
    {
     "data": {
      "text/plain": [
       "(7249, 2417, 2417)"
      ]
     },
     "execution_count": 108,
     "metadata": {},
     "output_type": "execute_result"
    }
   ],
   "source": [
    "len(y_train), len(y_val), len(y_test)"
   ]
  },
  {
   "cell_type": "markdown",
   "metadata": {},
   "source": [
    "## Evaluation Metrics\n",
    "\n",
    "The evaluation metrics that we will use for this project:\n",
    "* R-Squared (R²) \n",
    "* Adjusted R-Squared (Adj R²) \n",
    "* Mean Square Errors (MSE)\n",
    "* Root Mean Squared Errors (RMSE)\n",
    "\n",
    "\n",
    "These are the typical evaluation metrics that used to score a regression model.  "
   ]
  },
  {
   "cell_type": "markdown",
   "metadata": {},
   "source": [
    "## Modelling with Trial and Error and Research\n",
    "\n",
    "After a few hours of trial and error with many different types of regression models and some research, we have concluded that the model we will use is the Extra Trees Regression model.\n",
    "\n",
    "The reason for this model is to reduce variance more strongly than the weaker randomization schemes used by other methods. This is done by the explicit randomization of the cut-point and attribute combined with ensemble averaging.\n"
   ]
  },
  {
   "cell_type": "code",
   "execution_count": 109,
   "metadata": {},
   "outputs": [
    {
     "data": {
      "text/plain": [
       "0.6227631140624595"
      ]
     },
     "execution_count": 109,
     "metadata": {},
     "output_type": "execute_result"
    }
   ],
   "source": [
    "# Extra Trees Regression\n",
    "ex_reg = ExtraTreesRegressor(n_estimators=100, random_state=1).fit(X_train, y_train)\n",
    "ex_reg_score = ex_reg.score(X_val,y_val)\n",
    "ex_reg_score"
   ]
  },
  {
   "cell_type": "code",
   "execution_count": 110,
   "metadata": {},
   "outputs": [
    {
     "data": {
      "text/plain": [
       "{'bootstrap': False,\n",
       " 'ccp_alpha': 0.0,\n",
       " 'criterion': 'mse',\n",
       " 'max_depth': None,\n",
       " 'max_features': 'auto',\n",
       " 'max_leaf_nodes': None,\n",
       " 'max_samples': None,\n",
       " 'min_impurity_decrease': 0.0,\n",
       " 'min_impurity_split': None,\n",
       " 'min_samples_leaf': 1,\n",
       " 'min_samples_split': 2,\n",
       " 'min_weight_fraction_leaf': 0.0,\n",
       " 'n_estimators': 100,\n",
       " 'n_jobs': None,\n",
       " 'oob_score': False,\n",
       " 'random_state': 1,\n",
       " 'verbose': 0,\n",
       " 'warm_start': False}"
      ]
     },
     "execution_count": 110,
     "metadata": {},
     "output_type": "execute_result"
    }
   ],
   "source": [
    "ex_reg.get_params()"
   ]
  },
  {
   "cell_type": "markdown",
   "metadata": {},
   "source": [
    "## The next step to this assignment is to hyperparameter tune our model"
   ]
  },
  {
   "cell_type": "code",
   "execution_count": 111,
   "metadata": {},
   "outputs": [
    {
     "name": "stdout",
     "output_type": "stream",
     "text": [
      "Fitting 5 folds for each of 400 candidates, totalling 2000 fits\n"
     ]
    },
    {
     "name": "stderr",
     "output_type": "stream",
     "text": [
      "[Parallel(n_jobs=1)]: Using backend SequentialBackend with 1 concurrent workers.\n",
      "[Parallel(n_jobs=1)]: Done 2000 out of 2000 | elapsed: 24.8min finished\n"
     ]
    },
    {
     "name": "stdout",
     "output_type": "stream",
     "text": [
      "CPU times: user 23min 34s, sys: 13.6 s, total: 23min 47s\n",
      "Wall time: 24min 55s\n"
     ]
    },
    {
     "data": {
      "text/plain": [
       "RandomizedSearchCV(cv=5, estimator=ExtraTreesRegressor(), n_iter=400,\n",
       "                   param_distributions={'max_depth': [None, 3, 5, 10],\n",
       "                                        'max_features': [0.5, 1, 'sqrt',\n",
       "                                                         'auto'],\n",
       "                                        'max_samples': [None, 1000],\n",
       "                                        'min_samples_leaf': array([ 1,  3,  5,  7,  9, 11, 13, 15, 17, 19]),\n",
       "                                        'min_samples_split': array([ 2,  4,  6,  8, 10, 12, 14, 16, 18]),\n",
       "                                        'n_estimators': array([10, 20, 30, 40, 50, 60, 70, 80, 90])},\n",
       "                   verbose=True)"
      ]
     },
     "execution_count": 111,
     "metadata": {},
     "output_type": "execute_result"
    }
   ],
   "source": [
    "%%time\n",
    "from sklearn.model_selection import RandomizedSearchCV\n",
    "\n",
    "# Different RandomForestClassifier hyperparameters\n",
    "rf_grid = {\"n_estimators\": np.arange(10, 100, 10),\n",
    "           \"max_depth\": [None, 3, 5, 10],\n",
    "           \"min_samples_split\": np.arange(2, 20, 2),\n",
    "           \"min_samples_leaf\": np.arange(1, 20, 2),\n",
    "           \"max_features\": [0.5, 1, \"sqrt\", \"auto\"],\n",
    "           \"max_samples\": [None, 1000]}\n",
    "\n",
    "rs_model = RandomizedSearchCV(ExtraTreesRegressor(),\n",
    "                              param_distributions=rf_grid,\n",
    "                              n_iter=400,\n",
    "                              cv=5,\n",
    "                              verbose=True)\n",
    "\n",
    "rs_model.fit(X_train, y_train)"
   ]
  },
  {
   "cell_type": "code",
   "execution_count": 112,
   "metadata": {},
   "outputs": [
    {
     "data": {
      "text/plain": [
       "{'n_estimators': 90,\n",
       " 'min_samples_split': 8,\n",
       " 'min_samples_leaf': 3,\n",
       " 'max_samples': None,\n",
       " 'max_features': 'auto',\n",
       " 'max_depth': None}"
      ]
     },
     "execution_count": 112,
     "metadata": {},
     "output_type": "execute_result"
    }
   ],
   "source": [
    "rs_model.best_params_"
   ]
  },
  {
   "cell_type": "markdown",
   "metadata": {},
   "source": [
    "### Train a model with best hyperparameters"
   ]
  },
  {
   "cell_type": "code",
   "execution_count": 145,
   "metadata": {},
   "outputs": [
    {
     "data": {
      "text/plain": [
       "ExtraTreesRegressor(min_samples_leaf=3, min_samples_split=8, n_estimators=90,\n",
       "                    random_state=1)"
      ]
     },
     "execution_count": 145,
     "metadata": {},
     "output_type": "execute_result"
    }
   ],
   "source": [
    "# Most ideal hyperparameters\n",
    "ideal_model = ExtraTreesRegressor(n_estimators = 90, min_samples_split = 8,\n",
    "                                 min_samples_leaf = 3, max_samples = None,\n",
    "                                 max_features = \"auto\" , max_depth = None,\n",
    "                                 random_state = 1)\n",
    "ideal_model.fit(X_train, y_train)"
   ]
  },
  {
   "cell_type": "markdown",
   "metadata": {},
   "source": [
    "## Hyperparameter Analysis\n",
    "\n",
    "With these new hyperparameters as well as using all the samples, we can see an improvement to our models performance. \n",
    "\n",
    "**To Note:** Our improvement was minimal but it's still an improvement. I'm just happy there was some sort of improvement...Unfortunately, not extremely significant after spending many hours on this. "
   ]
  },
  {
   "cell_type": "code",
   "execution_count": 150,
   "metadata": {},
   "outputs": [
    {
     "data": {
      "text/plain": [
       "0.6264443031546045"
      ]
     },
     "execution_count": 150,
     "metadata": {},
     "output_type": "execute_result"
    }
   ],
   "source": [
    "ideal_model_score = ideal_model.score(X_val,y_val)\n",
    "ideal_model_score"
   ]
  },
  {
   "cell_type": "markdown",
   "metadata": {},
   "source": [
    "## Evaluation Metrics\n",
    "\n",
    "Here are some evaluation metrics that I used to evaluate our model and to explain our model's success or lack of success."
   ]
  },
  {
   "cell_type": "markdown",
   "metadata": {},
   "source": [
    "### R² Regression Score or Coefficient of determinant\n",
    "\n",
    "R-squared (R2) is a statistical measure that represents the proportion of the variance for a dependent variable that's explained by an independent variable or variables in a regression model.\n",
    "\n",
    "In our case, approximately ~59% of the observed variation can be explained by the model's inputs."
   ]
  },
  {
   "cell_type": "code",
   "execution_count": 115,
   "metadata": {},
   "outputs": [
    {
     "name": "stdout",
     "output_type": "stream",
     "text": [
      "The R^2 value for Extra Trees Regressor is : 0.591\n"
     ]
    }
   ],
   "source": [
    "# Find R Squared (R^2) Values\n",
    "y_preds = ideal_model.predict(X_test)\n",
    "print('The R^2 value for Extra Trees Regressor is :', round((r2_score(y_test,y_preds)), 3))"
   ]
  },
  {
   "cell_type": "markdown",
   "metadata": {},
   "source": [
    "This means there is a weak-medium correlation between our independent variables and our dependent variable. "
   ]
  },
  {
   "cell_type": "markdown",
   "metadata": {},
   "source": [
    "### Adjusted R² \n",
    "\n",
    "Adjusted R-squared, a modified version of R-squared, adds precision and reliability by considering the impact of additional independent variables that tend to skew the results of R-squared measurements."
   ]
  },
  {
   "cell_type": "code",
   "execution_count": 116,
   "metadata": {},
   "outputs": [
    {
     "name": "stdout",
     "output_type": "stream",
     "text": [
      "The Adj R2 value for Extra Trees Regressor is  : 0.587\n"
     ]
    }
   ],
   "source": [
    "# Find adjusted R Squared (Adj R2) Values\n",
    "print('The Adj R2 value for Extra Trees Regressor is  :', round((1 - (1-r2_score(y_test,y_preds))*(len(y)-1)/(len(y)-X.shape[1]-1)),3))"
   ]
  },
  {
   "cell_type": "markdown",
   "metadata": {},
   "source": [
    "### The Mean Square Errors (MSE) is a measure of the closeness of a regression line to a set of points."
   ]
  },
  {
   "cell_type": "code",
   "execution_count": 117,
   "metadata": {},
   "outputs": [
    {
     "data": {
      "text/plain": [
       "22734110"
      ]
     },
     "execution_count": 117,
     "metadata": {},
     "output_type": "execute_result"
    }
   ],
   "source": [
    "# Find Mean Squared Errors (MSE)\n",
    "MSE_et  = mean_squared_error(y_test,y_preds)\n",
    "round(MSE_et)"
   ]
  },
  {
   "cell_type": "markdown",
   "metadata": {},
   "source": [
    "Our data does not fit our regression line well. It is no surprise when our R-Squared value is at 0.589.\n",
    "\n",
    "There are many factors that bring out this outcome and we will explore these factors shortly. "
   ]
  },
  {
   "cell_type": "markdown",
   "metadata": {},
   "source": [
    "### RMSE\n",
    "\n",
    "Lower values of RMSE mean that the regression line is close to the data points, indicating a better fit. RMSE is a good measure of how accurately the model predicts the response, and it is the most important criterion for fit if the main purpose of the model is prediction."
   ]
  },
  {
   "cell_type": "code",
   "execution_count": 118,
   "metadata": {},
   "outputs": [
    {
     "name": "stdout",
     "output_type": "stream",
     "text": [
      "The RMSE value for Extra Trees Regressor is  : 4768\n"
     ]
    }
   ],
   "source": [
    "# Find Root Mean Squared Errors (RMSE)\n",
    "MSE_et  = mean_squared_error(y_test,y_preds)\n",
    "print('The RMSE value for Extra Trees Regressor is  :', round(np.sqrt(MSE_et)));"
   ]
  },
  {
   "cell_type": "markdown",
   "metadata": {},
   "source": [
    "Again, we had a good idea that our regression line would not be too close to the data points from our previous results."
   ]
  },
  {
   "cell_type": "markdown",
   "metadata": {},
   "source": [
    "## Plotting "
   ]
  },
  {
   "cell_type": "code",
   "execution_count": 119,
   "metadata": {},
   "outputs": [
    {
     "data": {
      "image/png": "[encoded data removed]",
      "text/plain": [
       "<Figure size 432x288 with 1 Axes>"
      ]
     },
     "metadata": {
      "needs_background": "light"
     },
     "output_type": "display_data"
    }
   ],
   "source": [
    "# Plot the actual vs predicted prices\n",
    "plt.scatter(y_test, y_preds);\n",
    "plt.xlabel(\"Actual Consumption (KWH)\");\n",
    "plt.ylabel(\"Predicted Consumptiom (KWH)\");\n",
    "plt.title(\"Extra Trees Regression\");"
   ]
  },
  {
   "cell_type": "markdown",
   "metadata": {},
   "source": [
    "### Feature Importance\n",
    "\n",
    "We will explore which different attributes of the data were most most important when it comes to predicting the **target variable.**\n",
    "\n",
    "In our case, after our model learned the patterns in the data, which attribute consumes the most amount of energy. What contributes the most to energy consumption?\n",
    "\n",
    "Doing this for our `ExtraTreesRegressor` leads us to find the `feature_importances_` attribute."
   ]
  },
  {
   "cell_type": "code",
   "execution_count": 120,
   "metadata": {},
   "outputs": [
    {
     "data": {
      "text/plain": [
       "array([3.88116719e-03, 5.90392408e-04, 5.54785139e-03, 1.88265201e-03,\n",
       "       5.50548935e-03, 6.63054972e-02, 2.15790175e-04, 4.37234396e-03,\n",
       "       9.92753652e-04, 3.16658985e-04, 8.95202676e-05, 4.03515499e-03,\n",
       "       5.00027788e-03, 4.62893846e-03, 3.87649281e-03, 4.55879426e-03,\n",
       "       1.54337134e-03, 3.16653965e-03, 3.59698431e-03, 3.73812658e-03,\n",
       "       4.06647771e-03, 5.43138567e-03, 5.10833966e-03, 1.89685500e-03,\n",
       "       1.53470226e-03, 1.60990758e-03, 3.10614784e-03, 2.54092946e-02,\n",
       "       7.87316208e-02, 4.82872819e-03, 8.82541298e-03, 1.06744015e-02,\n",
       "       3.22097328e-02, 7.62932564e-03, 2.74956263e-03, 3.17193368e-03,\n",
       "       4.01376287e-03, 8.16662704e-05, 2.89041474e-03, 3.82432729e-03,\n",
       "       8.34694177e-03, 2.53872967e-03, 9.73866961e-03, 2.43093621e-03,\n",
       "       1.39154152e-02, 9.25744737e-04, 2.72309706e-03, 3.85967229e-05,\n",
       "       6.03554813e-03, 7.50607084e-03, 9.76497851e-03, 2.85391372e-04,\n",
       "       4.89230586e-04, 2.79977934e-03, 1.01235946e-02, 1.85843101e-04,\n",
       "       1.06369413e-02, 1.36107510e-03, 3.63841399e-03, 7.83534362e-02,\n",
       "       1.26570073e-02, 3.45390804e-03, 2.76289461e-03, 2.40648446e-03,\n",
       "       2.62774019e-03, 3.52653954e-03, 2.84625219e-03, 1.34189781e-05,\n",
       "       2.90129490e-03, 3.34789487e-03, 3.19093433e-03, 2.08025608e-03,\n",
       "       3.53479615e-03, 1.82778139e-03, 1.75555391e-03, 7.80045619e-04,\n",
       "       2.61153407e-04, 3.58880816e-03, 4.63256530e-03, 5.10641274e-03,\n",
       "       3.04232734e-03, 3.76780954e-03, 2.72092295e-03, 8.84751238e-02,\n",
       "       4.61143015e-03, 3.57554770e-03, 5.36664788e-03, 7.31017338e-03,\n",
       "       8.59275986e-03, 1.64022892e-03, 1.33991692e-03, 1.16399981e-01,\n",
       "       1.28817636e-03, 3.25034981e-03, 7.50086059e-03, 1.22772539e-03,\n",
       "       2.81675427e-03, 4.60779792e-02, 1.32675930e-02, 4.51238768e-03,\n",
       "       2.65402763e-03, 2.82000256e-03, 5.40370859e-03, 2.86719289e-03,\n",
       "       3.28197597e-03, 1.64042517e-03, 1.89143249e-03, 1.03151547e-03,\n",
       "       3.67360563e-03, 3.70058890e-03, 3.69028569e-02, 1.32763310e-02,\n",
       "       2.47716873e-02, 2.52098054e-03])"
      ]
     },
     "execution_count": 120,
     "metadata": {},
     "output_type": "execute_result"
    }
   ],
   "source": [
    "ideal_model.feature_importances_"
   ]
  },
  {
   "cell_type": "code",
   "execution_count": 121,
   "metadata": {},
   "outputs": [],
   "source": [
    "# Helper function for plotting feature importance\n",
    "def plot_features(columns, importances, n=20):\n",
    "    df = (pd.DataFrame({\"features\": columns,\n",
    "                        \"feature_importance\": importances})\n",
    "          .sort_values(\"feature_importance\", ascending=False)\n",
    "          .reset_index(drop=True))\n",
    "    \n",
    "    sns.barplot(x=\"feature_importance\",\n",
    "                y=\"features\",\n",
    "                data=df[:n],\n",
    "                orient=\"h\")"
   ]
  },
  {
   "cell_type": "code",
   "execution_count": 122,
   "metadata": {},
   "outputs": [
    {
     "data": {
      "image/png": "[encoded data removed]",
      "text/plain": [
       "<Figure size 432x288 with 1 Axes>"
      ]
     },
     "metadata": {
      "needs_background": "light"
     },
     "output_type": "display_data"
    }
   ],
   "source": [
    "plot_features(X_train.columns, ideal_model.feature_importances_)"
   ]
  },
  {
   "cell_type": "markdown",
   "metadata": {},
   "source": [
    "After plotting the feature importances, we can see there are about 10 attributes that play a role in our electric consumption.\n",
    "\n",
    "We will only look at the first 10 attributes because after that, the weight of each attribute seems to even out.\n",
    "\n",
    "1. USECENAC\n",
    "- Frequency central air conditioner used in summer 2009. \n",
    "2. FUELH2O\n",
    "- Fuel used by main water heater\n",
    "3. DRYRFUEL\n",
    "- Fuel used by clothes dryer\n",
    "4. FUELHEAT\n",
    "- Main space heating fuel \n",
    "5. TYPEHUQ\n",
    "- Type of housing unit \n",
    "6. SWIMPOOL\n",
    "- Swimming Pool\n",
    "7. NHSLDMEM\n",
    "- Number of household members\n",
    "8. WELLPUMP\n",
    "- Well water pump used\n",
    "9. TOTROOMS\n",
    "- Total number of tooms in the housing unit\n",
    "10. TOTHSQFT\n",
    "- Total heated square footage\n",
    "\n",
    "\n",
    "Most of these correlations are evident but **below** will be a further analysis on these attributes.\n",
    "\n",
    "**Important to Note:** In most of these graphs, there is a variable of **\"-2\"** which means **\"Not Applicable\"**. We are either lacking information about the subject or the data was not retrievable. "
   ]
  },
  {
   "cell_type": "code",
   "execution_count": 123,
   "metadata": {},
   "outputs": [
    {
     "data": {
      "text/plain": [
       "0.9999999999999999"
      ]
     },
     "execution_count": 123,
     "metadata": {},
     "output_type": "execute_result"
    }
   ],
   "source": [
    "sum(ideal_model.feature_importances_)"
   ]
  },
  {
   "cell_type": "markdown",
   "metadata": {},
   "source": [
    "## 1. USECENAC (Frequency central air conditioner used in summer 2009)"
   ]
  },
  {
   "cell_type": "code",
   "execution_count": 124,
   "metadata": {},
   "outputs": [
    {
     "data": {
      "text/plain": [
       "-2    4647\n",
       " 3    3838\n",
       " 1    2104\n",
       " 2    1494\n",
       "Name: USECENAC, dtype: int64"
      ]
     },
     "execution_count": 124,
     "metadata": {},
     "output_type": "execute_result"
    }
   ],
   "source": [
    "pc_df.USECENAC.value_counts()"
   ]
  },
  {
   "cell_type": "code",
   "execution_count": 125,
   "metadata": {},
   "outputs": [
    {
     "data": {
      "image/png": "[encoded data removed]",
      "text/plain": [
       "<Figure size 432x288 with 1 Axes>"
      ]
     },
     "metadata": {
      "needs_background": "light"
     },
     "output_type": "display_data"
    }
   ],
   "source": [
    "fig, ax = plt.subplots()\n",
    "ax.scatter(df[\"USECENAC\"][:10000], df[\"KWH\"][:10000]);"
   ]
  },
  {
   "cell_type": "markdown",
   "metadata": {},
   "source": [
    "The \"USECENAC\" variable is the frequency a household used their air conditioning used in summer 2009. \"1\" means it's turned on when nights needed, \"2\" means turned on quite a bit, **\"3\"** means turned on just about all summer. \n",
    "\n",
    "That is why the 3 column has higher consumption levels of electricty (Not always, but we can make some sort of general assumption because it makes logical sense)"
   ]
  },
  {
   "cell_type": "markdown",
   "metadata": {},
   "source": [
    "## 2. FUELH2O (Fuel used by main water heater)"
   ]
  },
  {
   "cell_type": "code",
   "execution_count": 126,
   "metadata": {},
   "outputs": [
    {
     "data": {
      "text/plain": [
       " 1     6380\n",
       " 5     4773\n",
       " 3      457\n",
       " 2      399\n",
       "-2       34\n",
       " 8       17\n",
       " 7       11\n",
       " 21       9\n",
       " 4        3\n",
       "Name: FUELH2O, dtype: int64"
      ]
     },
     "execution_count": 126,
     "metadata": {},
     "output_type": "execute_result"
    }
   ],
   "source": [
    "pc_df.FUELH2O.value_counts()"
   ]
  },
  {
   "cell_type": "code",
   "execution_count": 127,
   "metadata": {},
   "outputs": [
    {
     "data": {
      "image/png": "[encoded data removed]",
      "text/plain": [
       "<Figure size 432x288 with 1 Axes>"
      ]
     },
     "metadata": {
      "needs_background": "light"
     },
     "output_type": "display_data"
    }
   ],
   "source": [
    "fig, ax = plt.subplots()\n",
    "ax.scatter(df[\"FUELH2O\"][:10000], df[\"KWH\"][:10000]);"
   ]
  },
  {
   "cell_type": "markdown",
   "metadata": {},
   "source": [
    "\"FUELH2O\" signifies the fuel used by the main water branch. **\"5\"** is the variable for electricity in this case. \"1\" is the variable for natural gas. "
   ]
  },
  {
   "cell_type": "markdown",
   "metadata": {},
   "source": [
    "## 3. DRYRFUEL (Fuel used by clothes dryer)"
   ]
  },
  {
   "cell_type": "code",
   "execution_count": 128,
   "metadata": {},
   "outputs": [
    {
     "data": {
      "text/plain": [
       " 5    7729\n",
       "-2    2359\n",
       " 1    1892\n",
       " 2     103\n",
       "Name: DRYRFUEL, dtype: int64"
      ]
     },
     "execution_count": 128,
     "metadata": {},
     "output_type": "execute_result"
    }
   ],
   "source": [
    "pc_df.DRYRFUEL.value_counts()"
   ]
  },
  {
   "cell_type": "code",
   "execution_count": 129,
   "metadata": {},
   "outputs": [
    {
     "data": {
      "image/png": "[encoded data removed]",
      "text/plain": [
       "<Figure size 432x288 with 1 Axes>"
      ]
     },
     "metadata": {
      "needs_background": "light"
     },
     "output_type": "display_data"
    }
   ],
   "source": [
    "fig, ax = plt.subplots()\n",
    "ax.scatter(df[\"DRYRFUEL\"][:10000], df[\"KWH\"][:10000]);"
   ]
  },
  {
   "cell_type": "markdown",
   "metadata": {},
   "source": [
    "\"DRYRFUEL\" is the fuel used by clothes dryer where **\"5\"** signifies electricty and \"1\" signifies natural gas. \n",
    "If the fuel used by the clothes dryer is electricity, therefore, consumption of electricity is higher. "
   ]
  },
  {
   "cell_type": "markdown",
   "metadata": {},
   "source": [
    "## 4. FUELHEAT (Main space heating fuel)"
   ]
  },
  {
   "cell_type": "code",
   "execution_count": 130,
   "metadata": {},
   "outputs": [
    {
     "data": {
      "text/plain": [
       " 1     5903\n",
       " 5     4038\n",
       " 3      817\n",
       " 2      487\n",
       "-2      446\n",
       " 7      295\n",
       " 4       52\n",
       " 9       23\n",
       " 21      21\n",
       " 8        1\n",
       "Name: FUELHEAT, dtype: int64"
      ]
     },
     "execution_count": 130,
     "metadata": {},
     "output_type": "execute_result"
    }
   ],
   "source": [
    "pc_df.FUELHEAT.value_counts()"
   ]
  },
  {
   "cell_type": "code",
   "execution_count": 131,
   "metadata": {},
   "outputs": [
    {
     "data": {
      "image/png": "[encoded data removed]",
      "text/plain": [
       "<Figure size 432x288 with 1 Axes>"
      ]
     },
     "metadata": {
      "needs_background": "light"
     },
     "output_type": "display_data"
    }
   ],
   "source": [
    "fig, ax = plt.subplots()\n",
    "ax.scatter(df[\"FUELHEAT\"][:10000], df[\"KWH\"][:10000]);"
   ]
  },
  {
   "cell_type": "markdown",
   "metadata": {},
   "source": [
    "The **\"FUELHEAT\"** attribute tells us what is the main space heating fuel. Variable \"5\" is what denotes electricity in this case. If the main space heating fuel is \"5\" (electricity), obviously there is a higher possibility that our target variable increases."
   ]
  },
  {
   "cell_type": "markdown",
   "metadata": {},
   "source": [
    "## 5. TYPEHUQ (Type of housing unit)"
   ]
  },
  {
   "cell_type": "code",
   "execution_count": 132,
   "metadata": {},
   "outputs": [
    {
     "data": {
      "text/plain": [
       "2    7803\n",
       "5    1923\n",
       "4     926\n",
       "3     890\n",
       "1     541\n",
       "Name: TYPEHUQ, dtype: int64"
      ]
     },
     "execution_count": 132,
     "metadata": {},
     "output_type": "execute_result"
    }
   ],
   "source": [
    "pc_df.TYPEHUQ.value_counts()"
   ]
  },
  {
   "cell_type": "code",
   "execution_count": 133,
   "metadata": {},
   "outputs": [
    {
     "data": {
      "image/png": "[encoded data removed]",
      "text/plain": [
       "<Figure size 432x288 with 1 Axes>"
      ]
     },
     "metadata": {
      "needs_background": "light"
     },
     "output_type": "display_data"
    }
   ],
   "source": [
    "fig, ax = plt.subplots()\n",
    "ax.scatter(df[\"TYPEHUQ\"][:10000], df[\"KWH\"][:10000]);"
   ]
  },
  {
   "cell_type": "markdown",
   "metadata": {},
   "source": [
    "TYPEHUQ describes the type of housing unit. It would make sense for a larger housing unit to consume more energy. Consequently, there is a positive correlation between the type of housing unit and the energy consumed. Typically, larger type housing units will consume more electricity. Variable **\"2\"\"** seems to have the highest energy consumption. Variable **\"2\"** are the **\"Single-Family Attached\"** units."
   ]
  },
  {
   "cell_type": "markdown",
   "metadata": {},
   "source": [
    "## 6. SWIMPOOL (Swimming Pool)"
   ]
  },
  {
   "cell_type": "code",
   "execution_count": 134,
   "metadata": {},
   "outputs": [
    {
     "data": {
      "text/plain": [
       " 0    7796\n",
       "-2    3390\n",
       " 1     897\n",
       "Name: SWIMPOOL, dtype: int64"
      ]
     },
     "execution_count": 134,
     "metadata": {},
     "output_type": "execute_result"
    }
   ],
   "source": [
    "pc_df.SWIMPOOL.value_counts()"
   ]
  },
  {
   "cell_type": "code",
   "execution_count": 135,
   "metadata": {},
   "outputs": [
    {
     "data": {
      "image/png": "[encoded data removed]",
      "text/plain": [
       "<Figure size 432x288 with 1 Axes>"
      ]
     },
     "metadata": {
      "needs_background": "light"
     },
     "output_type": "display_data"
    }
   ],
   "source": [
    "fig, ax = plt.subplots()\n",
    "ax.scatter(df[\"SWIMPOOL\"][:10000], df[\"KWH\"][:10000]);"
   ]
  },
  {
   "cell_type": "markdown",
   "metadata": {},
   "source": [
    "Does the household have a swimming pool? (0 = NO, 1 = YES, -2 = NOT APPLICABLE)\n",
    "Typically, households that have a swimming pool will heat the swimming pool up over the course of when they are using it. That is why there is a higher consumption of electricity in households with a swimming pool."
   ]
  },
  {
   "cell_type": "markdown",
   "metadata": {},
   "source": [
    "## 7. NHSLDMEM (Number of household members)"
   ]
  },
  {
   "cell_type": "code",
   "execution_count": 136,
   "metadata": {},
   "outputs": [
    {
     "data": {
      "text/plain": [
       "2     4052\n",
       "1     2785\n",
       "3     2070\n",
       "4     1749\n",
       "5      859\n",
       "6      343\n",
       "7      128\n",
       "8       52\n",
       "9       26\n",
       "10       8\n",
       "11       5\n",
       "14       4\n",
       "12       2\n",
       "Name: NHSLDMEM, dtype: int64"
      ]
     },
     "execution_count": 136,
     "metadata": {},
     "output_type": "execute_result"
    }
   ],
   "source": [
    "pc_df.NHSLDMEM.value_counts()"
   ]
  },
  {
   "cell_type": "code",
   "execution_count": 137,
   "metadata": {},
   "outputs": [
    {
     "data": {
      "image/png": "[encoded data removed]",
      "text/plain": [
       "<Figure size 432x288 with 1 Axes>"
      ]
     },
     "metadata": {
      "needs_background": "light"
     },
     "output_type": "display_data"
    }
   ],
   "source": [
    "fig, ax = plt.subplots()\n",
    "ax.scatter(df[\"NHSLDMEM\"][:10000], df[\"KWH\"][:10000]);"
   ]
  },
  {
   "cell_type": "markdown",
   "metadata": {},
   "source": [
    "\"NHSLDMEM\" is used to describe the number of household members (0-15 Number of household members).\n",
    "\n",
    "It is slightly confusing because the household with a total of 23 rooms only has 2 household members. \n",
    "Not sure why you would buy a house with 23 rooms for 2 people..."
   ]
  },
  {
   "cell_type": "markdown",
   "metadata": {},
   "source": [
    "## 8. WELLPUMP (Well water pump used)"
   ]
  },
  {
   "cell_type": "code",
   "execution_count": 138,
   "metadata": {},
   "outputs": [
    {
     "data": {
      "text/plain": [
       " 0    7839\n",
       "-2    2849\n",
       " 1    1395\n",
       "Name: WELLPUMP, dtype: int64"
      ]
     },
     "execution_count": 138,
     "metadata": {},
     "output_type": "execute_result"
    }
   ],
   "source": [
    "pc_df.WELLPUMP.value_counts()"
   ]
  },
  {
   "cell_type": "code",
   "execution_count": 139,
   "metadata": {},
   "outputs": [
    {
     "data": {
      "image/png": "[encoded data removed]",
      "text/plain": [
       "<Figure size 432x288 with 1 Axes>"
      ]
     },
     "metadata": {
      "needs_background": "light"
     },
     "output_type": "display_data"
    }
   ],
   "source": [
    "fig, ax = plt.subplots()\n",
    "ax.scatter(df[\"WELLPUMP\"][:10000], df[\"KWH\"][:10000]);"
   ]
  },
  {
   "cell_type": "markdown",
   "metadata": {},
   "source": [
    "This feature tells us if the household uses a wellpump or not. The variable \"1\" means the household does use a wellpump. A wellpump does consume a lot of energy when they are starting up. It is also possible to not use a wellpump but to use extreme amount of electricity. A household that has a high total of rooms without a wellpump will consume high amounts of energy no matter what the wellpump situation looks like."
   ]
  },
  {
   "cell_type": "markdown",
   "metadata": {},
   "source": [
    "## 9. TOTROOMS (Total number of tooms in the housing unit)"
   ]
  },
  {
   "cell_type": "code",
   "execution_count": 140,
   "metadata": {},
   "outputs": [
    {
     "data": {
      "text/plain": [
       "6     2369\n",
       "5     2199\n",
       "7     1784\n",
       "4     1766\n",
       "8     1296\n",
       "3      862\n",
       "9      716\n",
       "10     375\n",
       "1      216\n",
       "11     173\n",
       "2      169\n",
       "12      72\n",
       "13      49\n",
       "14      16\n",
       "15       8\n",
       "16       5\n",
       "17       3\n",
       "18       2\n",
       "19       1\n",
       "21       1\n",
       "23       1\n",
       "Name: TOTROOMS, dtype: int64"
      ]
     },
     "execution_count": 140,
     "metadata": {},
     "output_type": "execute_result"
    }
   ],
   "source": [
    "pc_df.TOTROOMS.value_counts()"
   ]
  },
  {
   "cell_type": "code",
   "execution_count": 141,
   "metadata": {
    "scrolled": true
   },
   "outputs": [
    {
     "data": {
      "text/html": [
       "<div>\n",
       "<style scoped>\n",
       "    .dataframe tbody tr th:only-of-type {\n",
       "        vertical-align: middle;\n",
       "    }\n",
       "\n",
       "    .dataframe tbody tr th {\n",
       "        vertical-align: top;\n",
       "    }\n",
       "\n",
       "    .dataframe thead th {\n",
       "        text-align: right;\n",
       "    }\n",
       "</style>\n",
       "<table border=\"1\" class=\"dataframe\">\n",
       "  <thead>\n",
       "    <tr style=\"text-align: right;\">\n",
       "      <th></th>\n",
       "      <th>DIPSTICK</th>\n",
       "      <th>AQUARIUM</th>\n",
       "      <th>ELECDEV</th>\n",
       "      <th>ELECCHRG</th>\n",
       "      <th>EQUIPM</th>\n",
       "      <th>FUELHEAT</th>\n",
       "      <th>CARRYKER</th>\n",
       "      <th>EQMAMT</th>\n",
       "      <th>MOISTURE</th>\n",
       "      <th>USEMOISTURE</th>\n",
       "      <th>...</th>\n",
       "      <th>LGT1EE</th>\n",
       "      <th>NOUTLGTNT</th>\n",
       "      <th>LGTOEE</th>\n",
       "      <th>NGASLIGHT</th>\n",
       "      <th>ELECAUX</th>\n",
       "      <th>NHSLDMEM</th>\n",
       "      <th>TOTSQFT_EN</th>\n",
       "      <th>TOTHSQFT</th>\n",
       "      <th>TOTUCSQFT</th>\n",
       "      <th>KWH</th>\n",
       "    </tr>\n",
       "  </thead>\n",
       "  <tbody>\n",
       "    <tr>\n",
       "      <th>3551</th>\n",
       "      <td>-2</td>\n",
       "      <td>0</td>\n",
       "      <td>1</td>\n",
       "      <td>2</td>\n",
       "      <td>2</td>\n",
       "      <td>5</td>\n",
       "      <td>0</td>\n",
       "      <td>1</td>\n",
       "      <td>0</td>\n",
       "      <td>-2</td>\n",
       "      <td>...</td>\n",
       "      <td>2</td>\n",
       "      <td>0</td>\n",
       "      <td>-2</td>\n",
       "      <td>-2</td>\n",
       "      <td>0</td>\n",
       "      <td>2</td>\n",
       "      <td>9545</td>\n",
       "      <td>9303</td>\n",
       "      <td>642</td>\n",
       "      <td>150254</td>\n",
       "    </tr>\n",
       "  </tbody>\n",
       "</table>\n",
       "<p>1 rows × 115 columns</p>\n",
       "</div>"
      ],
      "text/plain": [
       "      DIPSTICK  AQUARIUM  ELECDEV  ELECCHRG  EQUIPM  FUELHEAT  CARRYKER  \\\n",
       "3551        -2         0        1         2       2         5         0   \n",
       "\n",
       "      EQMAMT  MOISTURE  USEMOISTURE  ...  LGT1EE  NOUTLGTNT  LGTOEE  \\\n",
       "3551       1         0           -2  ...       2          0      -2   \n",
       "\n",
       "      NGASLIGHT  ELECAUX  NHSLDMEM  TOTSQFT_EN  TOTHSQFT  TOTUCSQFT     KWH  \n",
       "3551         -2        0         2        9545      9303        642  150254  \n",
       "\n",
       "[1 rows x 115 columns]"
      ]
     },
     "execution_count": 141,
     "metadata": {},
     "output_type": "execute_result"
    }
   ],
   "source": [
    "pc_df[pc_df[\"TOTROOMS\"]==23]"
   ]
  },
  {
   "cell_type": "code",
   "execution_count": 142,
   "metadata": {},
   "outputs": [
    {
     "data": {
      "image/png": "[encoded data removed]",
      "text/plain": [
       "<Figure size 432x288 with 1 Axes>"
      ]
     },
     "metadata": {
      "needs_background": "light"
     },
     "output_type": "display_data"
    }
   ],
   "source": [
    "fig, ax = plt.subplots();\n",
    "ax.scatter(pc_df[\"TOTROOMS\"][:10000], pc_df[\"KWH\"][:10000]);"
   ]
  },
  {
   "cell_type": "markdown",
   "metadata": {},
   "source": [
    "TOTROOMS represents the total number of rooms in the housing unit. There more rooms there are to keep warm and lit up could affect the quantity of electricity used. Numbers 1-25 are the numbers used to simply describe the total number of rooms in the house."
   ]
  },
  {
   "cell_type": "markdown",
   "metadata": {},
   "source": [
    "## 10. TOTHSQFT (Total heated square footage)"
   ]
  },
  {
   "cell_type": "code",
   "execution_count": 143,
   "metadata": {},
   "outputs": [
    {
     "data": {
      "text/plain": [
       "0       446\n",
       "1200     50\n",
       "840      41\n",
       "1800     39\n",
       "1440     39\n",
       "       ... \n",
       "1077      1\n",
       "3124      1\n",
       "5167      1\n",
       "3059      1\n",
       "4148      1\n",
       "Name: TOTHSQFT, Length: 3467, dtype: int64"
      ]
     },
     "execution_count": 143,
     "metadata": {},
     "output_type": "execute_result"
    }
   ],
   "source": [
    "pc_df.TOTHSQFT.value_counts()"
   ]
  },
  {
   "cell_type": "code",
   "execution_count": 144,
   "metadata": {},
   "outputs": [
    {
     "data": {
      "image/png": "[encoded data removed]",
      "text/plain": [
       "<Figure size 432x288 with 1 Axes>"
      ]
     },
     "metadata": {
      "needs_background": "light"
     },
     "output_type": "display_data"
    }
   ],
   "source": [
    "fig, ax = plt.subplots()\n",
    "ax.scatter(df[\"TOTHSQFT\"][:10000], df[\"KWH\"][:10000]);"
   ]
  },
  {
   "cell_type": "markdown",
   "metadata": {},
   "source": [
    "\"TOTHSQFT\" denotes the total heated square footage in square feet. "
   ]
  },
  {
   "cell_type": "markdown",
   "metadata": {},
   "source": [
    "# Report Analysis"
   ]
  },
  {
   "cell_type": "markdown",
   "metadata": {},
   "source": [
    "This was a very insightful and interesting project. We were hoping for stronger correlations between the dependent variables and independent variable. Unfortunately, we found weak to medium correlations but we did have results that made sense.\n",
    "\n",
    "Recap of what has been done:\n",
    "1. Defined the Problem\n",
    "2. Data Analysis \n",
    "3. Created a Model\n",
    "4. Evaluated the Model \n",
    "5. Viewed its Most Important Features\n",
    "\n",
    "### Problem Definition\n",
    "The **goal** of this report is to help us understand in depth the results that we achieved. \n",
    "The problem we had was to be able to predict the electric consumption based on the dataset given. We more or less achieved our goal but it definitely was a good start to understanding electricity consumption in households.\n",
    "\n",
    "### Data Analysis\n",
    "We attacked our problem by exploring the data. This was an important process before creating our model. It allowed us to know what needed to get done before creating any sort of model (i.e. checking for missing values, knowing what kind of data types were we dealing with). When I had first starting working on the dataset with a draft notebook, I wanted to create a model using all of the 900+ variables in our dataset. I quickly came to understand that was just not going to work out. I read more documentation and did more research and realized many of our variables did not contribute to our electricity consumption. I, then, decided to remove all variables that had 0 correlation with our target variable. This was a very significant step in creating our model because it made things a lot clearer for our model.\n",
    "\n",
    "### Model Choosing \n",
    "Moving forward, we knew we were dealing with a regression problem since we were predicting a number. We had many models to choose from. Since we were working with many variables, my goal was to reduce variance and to scale variables in the best possible way. There was much trial and error that went into this process.I scaled the attributes beforehand. None of these distance based models worked extremely well and I was not terribly surprised considering the variables we had. I then used models that scaled the data for me and compared these models with one another. My best resulting model was the ExtraTreesRegressor Model. It gave me the highest percentage of accuracy. My accuracy score ****(0.622)**** is not anything to brag about but we will discuss our final results soon. \n",
    "\n",
    "I was hoping that HyperParameter Tuning would increase my accuracy score but it had very little effect on it. It did improve slightly to a score of **(0.626)**\n",
    "\n",
    "### Model Evaluation\n",
    "We used a few evaluation metrics for our model to give us insights on why our model gave us these results. I was hopeful that we would have better results because I initially expected strong correlations between certain variables and our target variable. From our model evaluators, we can see the our Adjusted R-Squared Score **(0.587)** which tells us that our correlation between our inputs and target variable are weak to medium. \n",
    "\n",
    "### Feature Evaluation\n",
    "This brings us to feature evaluation. This is always the most interesting part to me. We get to know more about our data and what exactly predicts the target variable. What has more power over the target variable? The ExtraTreesRegressor gives us an easy method (.feature_importances_). We then plotted our top 20 most important features. We see a noticeable drop off between our 1-10 features and 11-20 features. I decided to solely focus on our top 10 features to analyze them to see what they were. \n",
    "\n",
    "### What could we improve?\n",
    "We could definitely clean up the data a bit more or be more precise in our approach. There were many variables in our dataset that had a \"-2\" which means \"not applicable\". Knowing the meaning of \"not applicable\" could change our approach to the problem. Does this mean that this data was simply not retrievable? If so, how do we retrieve this sort of data? This is important because this non-retrievable data affects our target variable and therefore, our model loses accuracy since it does not have that specific data. The model understands that our electricty variable might be increasing or decreasing without knowing the cause to that. \n",
    "More data of the missing data would help us tremendously in this process. \n",
    "\n",
    "Obviously, to improve model accuracy, we could remove outliers but I do believe outliers in this case are important. They are important because these outliers explain to us why our model accuracy is around **62-63%.**\n",
    "\n",
    "\n",
    "For example, there we found positive correlations between the number of rooms in the house and the number of people living in that house. The issue comes when there are many rooms in the house for small amounts of people. We do have a tendecy to live in a society that overconsumates and that could skew our results. \n",
    "\n",
    "This is important to note because it gives us better reasons and more accurate reporting on how people live their lives. This is where we can help society to change for the better and to improve their day to day lives for themselves and the ones around them by making better decisions. \n",
    "\n"
   ]
  },
  {
   "cell_type": "code",
   "execution_count": null,
   "metadata": {},
   "outputs": [],
   "source": []
  }
 ],
 "metadata": {
  "kernelspec": {
   "display_name": "Python 3",
   "language": "python",
   "name": "python3"
  },
  "language_info": {
   "codemirror_mode": {
    "name": "ipython",
    "version": 3
   },
   "file_extension": ".py",
   "mimetype": "text/x-python",
   "name": "python",
   "nbconvert_exporter": "python",
   "pygments_lexer": "ipython3",
   "version": "3.8.5"
  }
 },
 "nbformat": 4,
 "nbformat_minor": 4
}
